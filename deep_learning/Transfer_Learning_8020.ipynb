{
  "nbformat": 4,
  "nbformat_minor": 0,
  "metadata": {
    "colab": {
      "provenance": [],
      "machine_shape": "hm"
    },
    "kernelspec": {
      "name": "python3",
      "display_name": "Python 3"
    },
    "language_info": {
      "name": "python"
    }
  },
  "cells": [
    {
      "cell_type": "code",
      "execution_count": 2,
      "metadata": {
        "colab": {
          "base_uri": "https://localhost:8080/"
        },
        "id": "0OhdtfRcm01b",
        "outputId": "4a96a740-3680-46ca-d6eb-afa971f8c00f"
      },
      "outputs": [
        {
          "output_type": "stream",
          "name": "stdout",
          "text": [
            "Drive already mounted at /gdrive; to attempt to forcibly remount, call drive.mount(\"/gdrive\", force_remount=True).\n"
          ]
        }
      ],
      "source": [
        "# google driva bağlanma\n",
        "from google.colab import drive\n",
        "drive.mount('/gdrive')"
      ]
    },
    {
      "cell_type": "code",
      "source": [
        "import numpy as np\n",
        "import cv2\n",
        "import os\n",
        "from tensorflow.keras.applications.vgg16 import VGG16\n",
        "from tensorflow.keras.models import Sequential\n",
        "from tensorflow.keras.layers import Flatten, Dense, Dropout\n",
        "from tensorflow.keras.utils import to_categorical\n",
        "from sklearn.model_selection import train_test_split\n"
      ],
      "metadata": {
        "id": "OOttAS4enDb9"
      },
      "execution_count": 8,
      "outputs": []
    },
    {
      "cell_type": "code",
      "source": [
        "\n",
        "import os\n",
        "print(os.listdir(\"/gdrive/My Drive/Banana_Ripeness_Classification\"))\n"
      ],
      "metadata": {
        "colab": {
          "base_uri": "https://localhost:8080/"
        },
        "id": "1orBK8zjnF8b",
        "outputId": "ee77b666-e0cf-4eed-8707-990ef01aa738"
      },
      "execution_count": 9,
      "outputs": [
        {
          "output_type": "stream",
          "name": "stdout",
          "text": [
            "['unripe', 'ripe', 'rotten', 'overripe']\n"
          ]
        }
      ]
    },
    {
      "cell_type": "code",
      "source": [
        "# Dizini ve kategorileri ayarlama\n",
        "DATADIR = '/gdrive/My Drive/Banana_Ripeness_Classification/'\n",
        "CATEGORIES = [\"overripe\", \"ripe\", \"rotten\", \"unripe\"]\n",
        "IMG_SIZE = 100"
      ],
      "metadata": {
        "id": "Sa1ialq5oIMF"
      },
      "execution_count": 10,
      "outputs": []
    },
    {
      "cell_type": "code",
      "source": [
        "# Veri kümesi oluşturma işlevi\n",
        "def create_all_data():\n",
        "    all_data = []\n",
        "    for category in CATEGORIES:\n",
        "        path = os.path.join(DATADIR, category)\n",
        "        class_num = CATEGORIES.index(category)\n",
        "        for img in os.listdir(path):\n",
        "            try:\n",
        "                img_array = cv2.imread(os.path.join(path, img))\n",
        "                new_array = cv2.resize(img_array, (IMG_SIZE, IMG_SIZE))\n",
        "                all_data.append([new_array, class_num])\n",
        "            except Exception as e:\n",
        "                pass\n",
        "    return all_data"
      ],
      "metadata": {
        "id": "jkAfPksfoTfV"
      },
      "execution_count": 11,
      "outputs": []
    },
    {
      "cell_type": "code",
      "source": [
        "# Veri kümesini oluşturma\n",
        "all_data = create_all_data()"
      ],
      "metadata": {
        "id": "kDVwzrPGKjAq"
      },
      "execution_count": 12,
      "outputs": []
    },
    {
      "cell_type": "code",
      "source": [
        "print(\"Toplam Görüntü Sayısı: \", len(all_data))"
      ],
      "metadata": {
        "id": "BJzSjpifo-h2",
        "colab": {
          "base_uri": "https://localhost:8080/"
        },
        "outputId": "7432dd45-662b-45fd-ae35-a1ec5201e297"
      },
      "execution_count": 13,
      "outputs": [
        {
          "output_type": "stream",
          "name": "stdout",
          "text": [
            "Toplam Görüntü Sayısı:  13478\n"
          ]
        }
      ]
    },
    {
      "cell_type": "code",
      "source": [
        "X = []\n",
        "y = []\n",
        "\n",
        "for features, label in all_data:\n",
        "    X.append(features)\n",
        "    y.append(label)"
      ],
      "metadata": {
        "id": "lDvQ66Gvq4o9"
      },
      "execution_count": 14,
      "outputs": []
    },
    {
      "cell_type": "code",
      "source": [
        "# Senaryo 1: %80 Train, %20 Test ve %10 Validation\n",
        "x_train, x_test, y_train, y_test = train_test_split(X, y, test_size=0.20, random_state =42)\n",
        "x_train, x_val, y_train, y_val = train_test_split(x_train, y_train, test_size=0.10, random_state=42)"
      ],
      "metadata": {
        "id": "UKiYFPmpq8Q3"
      },
      "execution_count": 15,
      "outputs": []
    },
    {
      "cell_type": "code",
      "source": [
        "x_train = np.array(x_train)\n",
        "x_test = np.array(x_test)\n",
        "\n",
        "y_train = np.array(y_train)\n",
        "y_test = np.array(y_test)\n",
        "\n",
        "x_val = np.array(x_val)\n",
        "y_val = np.array(y_val)"
      ],
      "metadata": {
        "id": "Fl1ZVGd-NS9T"
      },
      "execution_count": 16,
      "outputs": []
    },
    {
      "cell_type": "code",
      "source": [
        "print(x_train.shape)\n",
        "print(x_test.shape)\n",
        "print(x_val.shape)\n",
        "\n",
        "print(y_train.shape)\n",
        "print(y_test.shape)\n",
        "print(y_val.shape)"
      ],
      "metadata": {
        "colab": {
          "base_uri": "https://localhost:8080/"
        },
        "id": "p9sMGHB8Naxl",
        "outputId": "29713240-d266-48ec-f253-eb0f633c8dad"
      },
      "execution_count": 17,
      "outputs": [
        {
          "output_type": "stream",
          "name": "stdout",
          "text": [
            "(9703, 100, 100, 3)\n",
            "(2696, 100, 100, 3)\n",
            "(1079, 100, 100, 3)\n",
            "(9703,)\n",
            "(2696,)\n",
            "(1079,)\n"
          ]
        }
      ]
    },
    {
      "cell_type": "code",
      "source": [
        "# Etiketleri kategorik hale dönüştürme\n",
        "y_train = to_categorical(y_train, num_classes=4)\n",
        "y_test = to_categorical(y_test, num_classes=4)\n",
        "y_val = to_categorical(y_val, num_classes=4)"
      ],
      "metadata": {
        "id": "pFsg2GKssuVj"
      },
      "execution_count": 18,
      "outputs": []
    },
    {
      "cell_type": "code",
      "source": [
        "# ImageNet verileri üzerinde önceden eğitilmiş VGG16 modelini yükleme\n",
        "base_model = VGG16(weights='imagenet', include_top=False, input_shape=(IMG_SIZE, IMG_SIZE, 3))\n",
        "base_model.trainable = False\n"
      ],
      "metadata": {
        "id": "_Pg6Xue1vgXK"
      },
      "execution_count": 19,
      "outputs": []
    },
    {
      "cell_type": "code",
      "source": [
        "model = Sequential([\n",
        "    base_model,\n",
        "    Flatten(),\n",
        "    Dense(512, activation='relu'),\n",
        "    Dropout(0.5),\n",
        "    Dense(4, activation='softmax')\n",
        "])"
      ],
      "metadata": {
        "id": "C4717eT-1PKQ"
      },
      "execution_count": 20,
      "outputs": []
    },
    {
      "cell_type": "code",
      "source": [
        "model.compile(optimizer='adam', loss='categorical_crossentropy', metrics=['accuracy'])"
      ],
      "metadata": {
        "id": "iFllnfxp2hT3"
      },
      "execution_count": 21,
      "outputs": []
    },
    {
      "cell_type": "code",
      "source": [
        "# Modeli eğitimi\n",
        "history = model.fit(x_train, y_train, batch_size=64, epochs=50, validation_data=(x_val, y_val))\n"
      ],
      "metadata": {
        "colab": {
          "base_uri": "https://localhost:8080/"
        },
        "id": "ZZmiZJUuMWHf",
        "outputId": "65751930-a93e-4cc0-e773-d02e553cc492"
      },
      "execution_count": 22,
      "outputs": [
        {
          "output_type": "stream",
          "name": "stdout",
          "text": [
            "Epoch 1/50\n",
            "152/152 [==============================] - 325s 2s/step - loss: 2.9645 - accuracy: 0.8770 - val_loss: 0.2414 - val_accuracy: 0.9435\n",
            "Epoch 2/50\n",
            "152/152 [==============================] - 296s 2s/step - loss: 0.3607 - accuracy: 0.9264 - val_loss: 0.1645 - val_accuracy: 0.9611\n",
            "Epoch 3/50\n",
            "152/152 [==============================] - 320s 2s/step - loss: 0.2340 - accuracy: 0.9456 - val_loss: 0.1462 - val_accuracy: 0.9694\n",
            "Epoch 4/50\n",
            "152/152 [==============================] - 296s 2s/step - loss: 0.1806 - accuracy: 0.9557 - val_loss: 0.1440 - val_accuracy: 0.9685\n",
            "Epoch 5/50\n",
            "152/152 [==============================] - 297s 2s/step - loss: 0.1516 - accuracy: 0.9609 - val_loss: 0.1682 - val_accuracy: 0.9685\n",
            "Epoch 6/50\n",
            "152/152 [==============================] - 316s 2s/step - loss: 0.1495 - accuracy: 0.9629 - val_loss: 0.1383 - val_accuracy: 0.9639\n",
            "Epoch 7/50\n",
            "152/152 [==============================] - 296s 2s/step - loss: 0.1662 - accuracy: 0.9590 - val_loss: 0.1479 - val_accuracy: 0.9639\n",
            "Epoch 8/50\n",
            "152/152 [==============================] - 319s 2s/step - loss: 0.1244 - accuracy: 0.9690 - val_loss: 0.2097 - val_accuracy: 0.9527\n",
            "Epoch 9/50\n",
            "152/152 [==============================] - 295s 2s/step - loss: 0.1315 - accuracy: 0.9697 - val_loss: 0.1237 - val_accuracy: 0.9741\n",
            "Epoch 10/50\n",
            "152/152 [==============================] - 319s 2s/step - loss: 0.1636 - accuracy: 0.9648 - val_loss: 0.1211 - val_accuracy: 0.9666\n",
            "Epoch 11/50\n",
            "152/152 [==============================] - 297s 2s/step - loss: 0.1283 - accuracy: 0.9683 - val_loss: 0.1359 - val_accuracy: 0.9703\n",
            "Epoch 12/50\n",
            "152/152 [==============================] - 318s 2s/step - loss: 0.1216 - accuracy: 0.9728 - val_loss: 0.1610 - val_accuracy: 0.9676\n",
            "Epoch 13/50\n",
            "152/152 [==============================] - 294s 2s/step - loss: 0.1408 - accuracy: 0.9705 - val_loss: 0.1307 - val_accuracy: 0.9703\n",
            "Epoch 14/50\n",
            "152/152 [==============================] - 317s 2s/step - loss: 0.1000 - accuracy: 0.9769 - val_loss: 0.1423 - val_accuracy: 0.9741\n",
            "Epoch 15/50\n",
            "152/152 [==============================] - 294s 2s/step - loss: 0.1238 - accuracy: 0.9729 - val_loss: 0.1606 - val_accuracy: 0.9666\n",
            "Epoch 16/50\n",
            "152/152 [==============================] - 315s 2s/step - loss: 0.1491 - accuracy: 0.9735 - val_loss: 0.1431 - val_accuracy: 0.9750\n",
            "Epoch 17/50\n",
            "152/152 [==============================] - 296s 2s/step - loss: 0.1143 - accuracy: 0.9756 - val_loss: 0.1334 - val_accuracy: 0.9722\n",
            "Epoch 18/50\n",
            "152/152 [==============================] - 294s 2s/step - loss: 0.1010 - accuracy: 0.9762 - val_loss: 0.1595 - val_accuracy: 0.9676\n",
            "Epoch 19/50\n",
            "152/152 [==============================] - 315s 2s/step - loss: 0.0906 - accuracy: 0.9772 - val_loss: 0.1313 - val_accuracy: 0.9796\n",
            "Epoch 20/50\n",
            "152/152 [==============================] - 295s 2s/step - loss: 0.1040 - accuracy: 0.9787 - val_loss: 0.1736 - val_accuracy: 0.9713\n",
            "Epoch 21/50\n",
            "152/152 [==============================] - 314s 2s/step - loss: 0.1082 - accuracy: 0.9774 - val_loss: 0.0911 - val_accuracy: 0.9824\n",
            "Epoch 22/50\n",
            "152/152 [==============================] - 291s 2s/step - loss: 0.1056 - accuracy: 0.9766 - val_loss: 0.1510 - val_accuracy: 0.9768\n",
            "Epoch 23/50\n",
            "152/152 [==============================] - 314s 2s/step - loss: 0.1432 - accuracy: 0.9750 - val_loss: 0.1774 - val_accuracy: 0.9685\n",
            "Epoch 24/50\n",
            "152/152 [==============================] - 294s 2s/step - loss: 0.0844 - accuracy: 0.9813 - val_loss: 0.1388 - val_accuracy: 0.9768\n",
            "Epoch 25/50\n",
            "152/152 [==============================] - 318s 2s/step - loss: 0.0890 - accuracy: 0.9795 - val_loss: 0.1570 - val_accuracy: 0.9768\n",
            "Epoch 26/50\n",
            "152/152 [==============================] - 303s 2s/step - loss: 0.0973 - accuracy: 0.9798 - val_loss: 0.1903 - val_accuracy: 0.9731\n",
            "Epoch 27/50\n",
            "152/152 [==============================] - 332s 2s/step - loss: 0.1185 - accuracy: 0.9776 - val_loss: 0.2008 - val_accuracy: 0.9713\n",
            "Epoch 28/50\n",
            "152/152 [==============================] - 300s 2s/step - loss: 0.1235 - accuracy: 0.9755 - val_loss: 0.1757 - val_accuracy: 0.9750\n",
            "Epoch 29/50\n",
            "152/152 [==============================] - 330s 2s/step - loss: 0.1042 - accuracy: 0.9810 - val_loss: 0.2086 - val_accuracy: 0.9713\n",
            "Epoch 30/50\n",
            "152/152 [==============================] - 301s 2s/step - loss: 0.1029 - accuracy: 0.9829 - val_loss: 0.1836 - val_accuracy: 0.9741\n",
            "Epoch 31/50\n",
            "152/152 [==============================] - 320s 2s/step - loss: 0.1057 - accuracy: 0.9790 - val_loss: 0.2365 - val_accuracy: 0.9741\n",
            "Epoch 32/50\n",
            "152/152 [==============================] - 312s 2s/step - loss: 0.1050 - accuracy: 0.9805 - val_loss: 0.2828 - val_accuracy: 0.9731\n",
            "Epoch 33/50\n",
            "152/152 [==============================] - 298s 2s/step - loss: 0.0949 - accuracy: 0.9799 - val_loss: 0.1518 - val_accuracy: 0.9759\n",
            "Epoch 34/50\n",
            "152/152 [==============================] - 326s 2s/step - loss: 0.1080 - accuracy: 0.9786 - val_loss: 0.2163 - val_accuracy: 0.9703\n",
            "Epoch 35/50\n",
            "152/152 [==============================] - 296s 2s/step - loss: 0.0857 - accuracy: 0.9841 - val_loss: 0.1937 - val_accuracy: 0.9722\n",
            "Epoch 36/50\n",
            "152/152 [==============================] - 297s 2s/step - loss: 0.1032 - accuracy: 0.9830 - val_loss: 0.1568 - val_accuracy: 0.9759\n",
            "Epoch 37/50\n",
            "152/152 [==============================] - 297s 2s/step - loss: 0.0848 - accuracy: 0.9838 - val_loss: 0.1942 - val_accuracy: 0.9778\n",
            "Epoch 38/50\n",
            "152/152 [==============================] - 300s 2s/step - loss: 0.0920 - accuracy: 0.9828 - val_loss: 0.1695 - val_accuracy: 0.9731\n",
            "Epoch 39/50\n",
            "152/152 [==============================] - 296s 2s/step - loss: 0.0804 - accuracy: 0.9844 - val_loss: 0.1979 - val_accuracy: 0.9768\n",
            "Epoch 40/50\n",
            "152/152 [==============================] - 295s 2s/step - loss: 0.0936 - accuracy: 0.9822 - val_loss: 0.1899 - val_accuracy: 0.9676\n",
            "Epoch 41/50\n",
            "152/152 [==============================] - 298s 2s/step - loss: 0.1001 - accuracy: 0.9827 - val_loss: 0.1204 - val_accuracy: 0.9787\n",
            "Epoch 42/50\n",
            "152/152 [==============================] - 297s 2s/step - loss: 0.0665 - accuracy: 0.9839 - val_loss: 0.1322 - val_accuracy: 0.9778\n",
            "Epoch 43/50\n",
            "152/152 [==============================] - 293s 2s/step - loss: 0.0735 - accuracy: 0.9847 - val_loss: 0.1750 - val_accuracy: 0.9796\n",
            "Epoch 44/50\n",
            "152/152 [==============================] - 293s 2s/step - loss: 0.0617 - accuracy: 0.9871 - val_loss: 0.2096 - val_accuracy: 0.9805\n",
            "Epoch 45/50\n",
            "152/152 [==============================] - 293s 2s/step - loss: 0.0872 - accuracy: 0.9839 - val_loss: 0.1689 - val_accuracy: 0.9815\n",
            "Epoch 46/50\n",
            "152/152 [==============================] - 293s 2s/step - loss: 0.1163 - accuracy: 0.9830 - val_loss: 0.1564 - val_accuracy: 0.9750\n",
            "Epoch 47/50\n",
            "152/152 [==============================] - 294s 2s/step - loss: 0.1093 - accuracy: 0.9837 - val_loss: 0.2090 - val_accuracy: 0.9805\n",
            "Epoch 48/50\n",
            "152/152 [==============================] - 293s 2s/step - loss: 0.0889 - accuracy: 0.9845 - val_loss: 0.1988 - val_accuracy: 0.9778\n",
            "Epoch 49/50\n",
            "152/152 [==============================] - 295s 2s/step - loss: 0.0876 - accuracy: 0.9834 - val_loss: 0.2161 - val_accuracy: 0.9787\n",
            "Epoch 50/50\n",
            "152/152 [==============================] - 294s 2s/step - loss: 0.0843 - accuracy: 0.9855 - val_loss: 0.2172 - val_accuracy: 0.9805\n"
          ]
        }
      ]
    },
    {
      "cell_type": "code",
      "source": [
        "# Modeli değerlendirme\n",
        "score_train = model.evaluate(x_train, y_train)\n",
        "score_test = model.evaluate(x_test, y_test)\n",
        "score_val = model.evaluate(x_val, y_val)\n",
        "print(\"Train Accuracy:\", score_train[1])\n",
        "print(\"Test Accuracy:\", score_test[1])\n",
        "print(\"Validation Accuracy:\", score_val[1])"
      ],
      "metadata": {
        "colab": {
          "base_uri": "https://localhost:8080/"
        },
        "id": "o38QTS4XONAc",
        "outputId": "b07a3ac6-7e71-4a54-f557-95deb2b6c2d6"
      },
      "execution_count": 23,
      "outputs": [
        {
          "output_type": "stream",
          "name": "stdout",
          "text": [
            "304/304 [==============================] - 266s 873ms/step - loss: 0.0055 - accuracy: 0.9986\n",
            "85/85 [==============================] - 73s 858ms/step - loss: 0.5486 - accuracy: 0.9596\n",
            "34/34 [==============================] - 29s 861ms/step - loss: 0.2172 - accuracy: 0.9805\n",
            "Train Accuracy: 0.9985571503639221\n",
            "Test Accuracy: 0.9595697522163391\n",
            "Validation Accuracy: 0.9805375337600708\n"
          ]
        }
      ]
    },
    {
      "cell_type": "code",
      "source": [
        "# Test setini kullanarak tahmin edme ve değerlendirme\n",
        "y_pred = model.predict(x_test)\n",
        "y_pred_classes = np.argmax(y_pred, axis=1)\n",
        "y_true = np.argmax(y_test, axis=1)"
      ],
      "metadata": {
        "colab": {
          "base_uri": "https://localhost:8080/"
        },
        "id": "Q1n7oyCGUjLd",
        "outputId": "60b9de26-43e4-4261-dff5-971666348034"
      },
      "execution_count": 24,
      "outputs": [
        {
          "output_type": "stream",
          "name": "stdout",
          "text": [
            "85/85 [==============================] - 74s 859ms/step\n"
          ]
        }
      ]
    },
    {
      "cell_type": "code",
      "source": [
        "from sklearn.metrics import accuracy_score, precision_score, recall_score, f1_score, confusion_matrix, classification_report\n",
        "# Metrikleri hesaplama\n",
        "accuracy = accuracy_score(y_true, y_pred_classes)\n",
        "precision = precision_score(y_true, y_pred_classes, average='weighted')\n",
        "recall = recall_score(y_true, y_pred_classes, average='weighted')\n",
        "f1 = f1_score(y_true, y_pred_classes, average='weighted')\n",
        "\n",
        "# Karışıklık Matrisi ve Sınıflandırma Raporu\n",
        "conf_matrix = confusion_matrix(y_true, y_pred_classes)\n",
        "class_report = classification_report(y_true, y_pred_classes)\n"
      ],
      "metadata": {
        "id": "kTNCBSdnWPEf"
      },
      "execution_count": 27,
      "outputs": []
    },
    {
      "cell_type": "code",
      "source": [
        "# Sonuçları görüntüleme\n",
        "print(\"Accuracy:\", accuracy)\n",
        "print(\"Precision:\", precision)\n",
        "print(\"Recall:\", recall)\n",
        "print(\"F1 Score:\", f1)\n",
        "print(\"\\nConfusion Matrix:\\n\", conf_matrix)\n",
        "print(\"\\nClassification Report:\\n\", class_report)"
      ],
      "metadata": {
        "colab": {
          "base_uri": "https://localhost:8080/"
        },
        "id": "lxLfCNrOWSUh",
        "outputId": "e38c7f21-9dc0-4568-a2d8-beaaedc3bc73"
      },
      "execution_count": 30,
      "outputs": [
        {
          "output_type": "stream",
          "name": "stdout",
          "text": [
            "Accuracy: 0.9595697329376854\n",
            "Precision: 0.9596944953547384\n",
            "Recall: 0.9595697329376854\n",
            "F1 Score: 0.9595231835597621\n",
            "\n",
            "Confusion Matrix:\n",
            " [[504  32   8   1]\n",
            " [  7 764  20   0]\n",
            " [ 14   8 874   6]\n",
            " [  0   0  13 445]]\n",
            "\n",
            "Classification Report:\n",
            "               precision    recall  f1-score   support\n",
            "\n",
            "           0       0.96      0.92      0.94       545\n",
            "           1       0.95      0.97      0.96       791\n",
            "           2       0.96      0.97      0.96       902\n",
            "           3       0.98      0.97      0.98       458\n",
            "\n",
            "    accuracy                           0.96      2696\n",
            "   macro avg       0.96      0.96      0.96      2696\n",
            "weighted avg       0.96      0.96      0.96      2696\n",
            "\n"
          ]
        }
      ]
    }
  ]
}