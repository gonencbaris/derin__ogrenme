{
 "nbformat": 4,
 "nbformat_minor": 0,
 "metadata": {
  "colab": {
   "provenance": [],
   "toc_visible": true
  },
  "kernelspec": {
   "name": "python3",
   "display_name": "Python 3"
  },
  "language_info": {
   "name": "python"
  }
 },
 "cells": [
  {
   "cell_type": "code",
   "execution_count": 1,
   "metadata": {
    "colab": {
     "base_uri": "https://localhost:8080/"
    },
    "id": "Hm3QiR7sGvqy",
    "outputId": "fec4c68f-2e31-4d4e-8883-b09554b5af0f"
   },
   "outputs": [
    {
     "output_type": "stream",
     "name": "stdout",
     "text": [
      "Mounted at /gdrive\n"
     ]
    }
   ],
   "source": [
    "from google.colab import drive\n",
    "drive.mount('/gdrive')"
   ]
  },
  {
   "cell_type": "code",
   "source": [
    "import numpy as np\n",
    "import pandas as pd\n",
    "import matplotlib.pyplot as plt\n",
    "import os\n",
    "import cv2\n",
    "import tensorflow as tf\n",
    "import seaborn as sns\n",
    "from sklearn.model_selection import train_test_split\n",
    "from keras.models import Sequential\n",
    "from keras.layers import Dense, Flatten\n",
    "from tensorflow.keras.utils import to_categorical\n",
    "from sklearn.metrics import accuracy_score, precision_score, recall_score, f1_score, confusion_matrix, classification_report"
   ],
   "metadata": {
    "id": "0cI0dqmGG6SI"
   },
   "execution_count": 2,
   "outputs": []
  },
  {
   "cell_type": "code",
   "source": [
    "print(os.listdir(\"/gdrive/My Drive/Colab Notebooks/ANN/BANANA\"))"
   ],
   "metadata": {
    "colab": {
     "base_uri": "https://localhost:8080/"
    },
    "id": "OpbFeCPeG7yX",
    "outputId": "1e2e4f1f-7457-4f7d-eaac-f3b1a31c7e80"
   },
   "execution_count": 3,
   "outputs": [
    {
     "output_type": "stream",
     "name": "stdout",
     "text": [
      "['ripe', 'unripe', 'overripe', 'rotten']\n"
     ]
    }
   ]
  },
  {
   "cell_type": "code",
   "source": [
    "DATADIR = '/gdrive/My Drive/Colab Notebooks/ANN/BANANA'\n",
    "CATEGORIES =[\"overripe\",\"ripe\",\"rotten\",\"unripe\"]\n",
    "IMG_SIZE = 100"
   ],
   "metadata": {
    "id": "iXbg1XL3G-nx"
   },
   "execution_count": 4,
   "outputs": []
  },
  {
   "cell_type": "code",
   "source": [
    "all_data =[]\n",
    "\n",
    "def create_all_data():\n",
    "    for category in CATEGORIES:\n",
    "        path=os.path.join(DATADIR, category)\n",
    "        class_num=CATEGORIES.index(category)\n",
    "        for img in os.listdir(path):\n",
    "            try:\n",
    "                img_array=cv2.imread(os.path.join(path,img))\n",
    "                new_array=cv2.resize(img_array,(IMG_SIZE,IMG_SIZE))\n",
    "                all_data.append([new_array,class_num])\n",
    "            except Exception as e:\n",
    "                print(\"hata\")\n",
    "create_all_data()"
   ],
   "metadata": {
    "id": "2nIEUHubHBTA"
   },
   "execution_count": 5,
   "outputs": []
  },
  {
   "cell_type": "code",
   "source": [
    "print(\"toplam görüntü sayısı: \",len(all_data))"
   ],
   "metadata": {
    "colab": {
     "base_uri": "https://localhost:8080/"
    },
    "id": "pDWghyvNHC3A",
    "outputId": "53cd927a-d65c-49dd-bc0c-f978965fa5cf"
   },
   "execution_count": 6,
   "outputs": [
    {
     "output_type": "stream",
     "name": "stdout",
     "text": [
      "toplam görüntü sayısı:  13478\n"
     ]
    }
   ]
  },
  {
   "cell_type": "code",
   "source": [
    "X = []\n",
    "y = []\n",
    "for features, label in all_data:\n",
    "    X.append(features)\n",
    "    y.append(label)\n",
    "\n",
    "X = np.array(X).reshape(-1, IMG_SIZE * IMG_SIZE * 3) # Düzleştirme işlemi\n",
    "y = np.array(y)"
   ],
   "metadata": {
    "id": "l0vFvcwOHG_w"
   },
   "execution_count": 7,
   "outputs": []
  },
  {
   "cell_type": "code",
   "source": [
    "# Veriyi bölme\n",
    "x_train, x_test, y_train, y_test = train_test_split(X, y, test_size=0.20, random_state=42)\n",
    "x_train, x_val, y_train, y_val = train_test_split(x_train, y_train, test_size=0.10, random_state=42)\n"
   ],
   "metadata": {
    "id": "PRjp5KkoHIHg"
   },
   "execution_count": 8,
   "outputs": []
  },
  {
   "cell_type": "code",
   "source": [
    "# Etiketleri one-hot kodlama\n",
    "y_train = to_categorical(y_train, num_classes=4)\n",
    "y_test = to_categorical(y_test, num_classes=4)\n",
    "y_val = to_categorical(y_val, num_classes=4)"
   ],
   "metadata": {
    "id": "JrZ37KcHHJp4"
   },
   "execution_count": 9,
   "outputs": []
  },
  {
   "cell_type": "code",
   "source": [
    "from tensorflow.keras.applications import EfficientNetB0\n",
    "from tensorflow.keras.models import Sequential\n",
    "from tensorflow.keras.layers import Dense, Flatten\n",
    "from tensorflow.keras.optimizers import Adam\n",
    "from tensorflow.keras.preprocessing.image import ImageDataGenerator\n",
    "\n",
    "# Önceden eğitilmiş EfficientNetB0 modelini yükleme\n",
    "base_model = EfficientNetB0(weights='imagenet', include_top=False, input_shape=(IMG_SIZE, IMG_SIZE, 3))\n",
    "\n",
    "# Önceden eğitilmiş modelin katmanlarını dondurma\n",
    "base_model.trainable = False\n",
    "\n",
    "# EfficientNetB0'ın üzerine sıralı bir model oluşturma\n",
    "model = Sequential()\n",
    "model.add(base_model)\n",
    "model.add(Flatten())\n",
    "model.add(Dense(1024, activation='relu'))\n",
    "model.add(Dense(512, activation='relu'))\n",
    "model.add(Dense(256, activation='relu'))\n",
    "model.add(Dense(4, activation='softmax'))\n",
    "\n",
    "# Optimizasyon Algoritmasını Ayarla\n",
    "optimizer = Adam(learning_rate=0.0001)\n",
    "model.compile(loss='categorical_crossentropy', optimizer=optimizer, metrics=['accuracy'])\n",
    "\n",
    "# Veri Artırma\n",
    "datagen = ImageDataGenerator(\n",
    "    rotation_range=20,\n",
    "    width_shift_range=0.2,\n",
    "    height_shift_range=0.2,\n",
    "    shear_range=0.2,\n",
    "    zoom_range=0.2,\n",
    "    horizontal_flip=True,\n",
    "    fill_mode='nearest'\n",
    ")\n",
    "x_train = x_train.reshape((-1, IMG_SIZE, IMG_SIZE, 3))\n",
    "x_val = x_val.reshape((-1, IMG_SIZE, IMG_SIZE, 3))\n",
    "\n",
    "\n",
    "\n",
    "\n",
    "# Veri artırma jeneratörünü uygun hale getir\n",
    "datagen.fit(x_train)\n",
    "\n",
    "# Modeli eğitme\n",
    "model.fit(datagen.flow(x_train, y_train, batch_size=32), validation_data=(x_val, y_val), epochs=10)\n"
   ],
   "metadata": {
    "colab": {
     "base_uri": "https://localhost:8080/"
    },
    "id": "beJqFV5FHLwI",
    "outputId": "556d4be3-6b5c-433d-ee34-b37ac4b8a103"
   },
   "execution_count": 10,
   "outputs": [
    {
     "output_type": "stream",
     "name": "stdout",
     "text": [
      "Downloading data from https://storage.googleapis.com/keras-applications/efficientnetb0_notop.h5\n",
      "16705208/16705208 [==============================] - 0s 0us/step\n",
      "Epoch 1/10\n",
      "304/304 [==============================] - 191s 609ms/step - loss: 0.3804 - accuracy: 0.8552 - val_loss: 0.2576 - val_accuracy: 0.8999\n",
      "Epoch 2/10\n",
      "304/304 [==============================] - 181s 597ms/step - loss: 0.2270 - accuracy: 0.9166 - val_loss: 0.3176 - val_accuracy: 0.8869\n",
      "Epoch 3/10\n",
      "304/304 [==============================] - 183s 600ms/step - loss: 0.1946 - accuracy: 0.9291 - val_loss: 0.1805 - val_accuracy: 0.9342\n",
      "Epoch 4/10\n",
      "304/304 [==============================] - 187s 616ms/step - loss: 0.1801 - accuracy: 0.9337 - val_loss: 0.1399 - val_accuracy: 0.9490\n",
      "Epoch 5/10\n",
      "304/304 [==============================] - 183s 603ms/step - loss: 0.1594 - accuracy: 0.9421 - val_loss: 0.1742 - val_accuracy: 0.9398\n",
      "Epoch 6/10\n",
      "304/304 [==============================] - 192s 631ms/step - loss: 0.1526 - accuracy: 0.9441 - val_loss: 0.1530 - val_accuracy: 0.9398\n",
      "Epoch 7/10\n",
      "304/304 [==============================] - 193s 634ms/step - loss: 0.1411 - accuracy: 0.9479 - val_loss: 0.1519 - val_accuracy: 0.9481\n",
      "Epoch 8/10\n",
      "304/304 [==============================] - 183s 600ms/step - loss: 0.1310 - accuracy: 0.9502 - val_loss: 0.1418 - val_accuracy: 0.9564\n",
      "Epoch 9/10\n",
      "304/304 [==============================] - 185s 607ms/step - loss: 0.1333 - accuracy: 0.9514 - val_loss: 0.1338 - val_accuracy: 0.9592\n",
      "Epoch 10/10\n",
      "304/304 [==============================] - 183s 602ms/step - loss: 0.1201 - accuracy: 0.9543 - val_loss: 0.1313 - val_accuracy: 0.9546\n"
     ]
    },
    {
     "output_type": "execute_result",
     "data": {
      "text/plain": [
       "<keras.src.callbacks.History at 0x7afb3ca97d60>"
      ]
     },
     "metadata": {},
     "execution_count": 10
    }
   ]
  },
  {
   "cell_type": "code",
   "source": [
    "# Test seti üzerinde değerlendirme\n",
    "x_test = x_test.reshape((-1, IMG_SIZE, IMG_SIZE, 3))\n",
    "y_pred = np.argmax(model.predict(x_test), axis=1)\n",
    "y_true = np.argmax(y_test, axis=1)\n"
   ],
   "metadata": {
    "colab": {
     "base_uri": "https://localhost:8080/"
    },
    "id": "OAKSjNJEHNhI",
    "outputId": "aaede3d1-3ee7-4d01-e7ac-f0246dadce9b"
   },
   "execution_count": 11,
   "outputs": [
    {
     "output_type": "stream",
     "name": "stdout",
     "text": [
      "85/85 [==============================] - 29s 333ms/step\n"
     ]
    }
   ]
  },
  {
   "cell_type": "code",
   "source": [
    "# Performans metrikleri\n",
    "accuracy = accuracy_score(y_true, y_pred)\n",
    "precision = precision_score(y_true, y_pred, average=\"weighted\")\n",
    "recall = recall_score(y_true, y_pred, average=\"weighted\")\n",
    "f1 = f1_score(y_true, y_pred, average=\"weighted\")\n"
   ],
   "metadata": {
    "id": "p9k1ZSkWHPMX"
   },
   "execution_count": 12,
   "outputs": []
  },
  {
   "cell_type": "code",
   "source": [
    "# Sonuçları gösterme\n",
    "print(\"Accuracy: \", accuracy)\n",
    "print(\"Precision: \", precision)\n",
    "print(\"Recall: \", recall)\n",
    "print(\"F1 Score: \", f1)\n",
    "print(\"\\nConfusion Matrix:\\n\", confusion_matrix(y_true, y_pred))\n",
    "print(\"\\nClassification Report:\\n\", classification_report(y_true, y_pred))"
   ],
   "metadata": {
    "colab": {
     "base_uri": "https://localhost:8080/"
    },
    "id": "ooJhJTRsHQsQ",
    "outputId": "810d4891-d077-4966-a942-0d902ed0758d"
   },
   "execution_count": 13,
   "outputs": [
    {
     "output_type": "stream",
     "name": "stdout",
     "text": [
      "Accuracy:  0.9491839762611276\n",
      "Precision:  0.9492165073416062\n",
      "Recall:  0.9491839762611276\n",
      "F1 Score:  0.9491380227218537\n",
      "\n",
      "Confusion Matrix:\n",
      " [[510  25  10   0]\n",
      " [ 19 737  29   6]\n",
      " [ 17  10 865  10]\n",
      " [  0   0  11 447]]\n",
      "\n",
      "Classification Report:\n",
      "               precision    recall  f1-score   support\n",
      "\n",
      "           0       0.93      0.94      0.93       545\n",
      "           1       0.95      0.93      0.94       791\n",
      "           2       0.95      0.96      0.95       902\n",
      "           3       0.97      0.98      0.97       458\n",
      "\n",
      "    accuracy                           0.95      2696\n",
      "   macro avg       0.95      0.95      0.95      2696\n",
      "weighted avg       0.95      0.95      0.95      2696\n"
     ]
    }
   ]
  }
 ]
}
