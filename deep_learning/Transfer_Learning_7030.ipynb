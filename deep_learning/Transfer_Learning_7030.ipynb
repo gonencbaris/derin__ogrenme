{
  "nbformat": 4,
  "nbformat_minor": 0,
  "metadata": {
    "colab": {
      "provenance": [],
      "machine_shape": "hm"
    },
    "kernelspec": {
      "name": "python3",
      "display_name": "Python 3"
    },
    "language_info": {
      "name": "python"
    }
  },
  "cells": [
    {
      "cell_type": "code",
      "execution_count": 19,
      "metadata": {
        "colab": {
          "base_uri": "https://localhost:8080/"
        },
        "id": "aChmq8QFml8c",
        "outputId": "39cbced2-0bb5-44e3-805e-8cd9972c9afe"
      },
      "outputs": [
        {
          "output_type": "stream",
          "name": "stdout",
          "text": [
            "Drive already mounted at /gdrive; to attempt to forcibly remount, call drive.mount(\"/gdrive\", force_remount=True).\n"
          ]
        }
      ],
      "source": [
        "# Veri kümesine erişmek için Google Drive'a bağlanma\n",
        "from google.colab import drive\n",
        "drive.mount('/gdrive')"
      ]
    },
    {
      "cell_type": "code",
      "source": [
        "# Gerekli kütüphaneleri içe aktarma\n",
        "import numpy as np\n",
        "import cv2\n",
        "import os\n",
        "from tensorflow.keras.applications.vgg16 import VGG16\n",
        "from tensorflow.keras.models import Sequential\n",
        "from tensorflow.keras.layers import Flatten, Dense, Dropout\n",
        "from tensorflow.keras.utils import to_categorical\n",
        "from sklearn.model_selection import train_test_split\n",
        "from sklearn.metrics import accuracy_score, precision_score, recall_score, f1_score, confusion_matrix, classification_report\n"
      ],
      "metadata": {
        "id": "teqO5kc5nENH"
      },
      "execution_count": 20,
      "outputs": []
    },
    {
      "cell_type": "code",
      "source": [
        "# Veri kümesindeki klasörleri gösterme\n",
        "import os\n",
        "print(os.listdir(\"/gdrive/My Drive/Banana_Ripeness_Classification\"))"
      ],
      "metadata": {
        "colab": {
          "base_uri": "https://localhost:8080/"
        },
        "id": "PqR50nRqnGOU",
        "outputId": "88c3842f-c1f9-4b77-cbac-89562ef76b50"
      },
      "execution_count": 21,
      "outputs": [
        {
          "output_type": "stream",
          "name": "stdout",
          "text": [
            "['unripe', 'ripe', 'rotten', 'overripe']\n"
          ]
        }
      ]
    },
    {
      "cell_type": "code",
      "source": [
        "# Veri kümesinin depolandığı dizini ve muz kategorilerini tanımlama\n",
        "DATADIR = '/gdrive/My Drive/Banana_Ripeness_Classification/'\n",
        "CATEGORIES = [\"overripe\", \"ripe\", \"rotten\", \"unripe\"]\n",
        "IMG_SIZE = 100"
      ],
      "metadata": {
        "id": "Y3tXLhn_nIlb"
      },
      "execution_count": 22,
      "outputs": []
    },
    {
      "cell_type": "code",
      "source": [
        "# Görüntülerden bir veri kümesi oluşturma işlevi\n",
        "def create_all_data():\n",
        "    all_data = []\n",
        "    for category in CATEGORIES:\n",
        "        path = os.path.join(DATADIR, category)\n",
        "        class_num = CATEGORIES.index(category)\n",
        "        for img in os.listdir(path):\n",
        "            try:\n",
        "                img_array = cv2.imread(os.path.join(path, img), cv2.IMREAD_COLOR)\n",
        "                new_array = cv2.resize(img_array, (IMG_SIZE, IMG_SIZE))\n",
        "                all_data.append([new_array, class_num])\n",
        "            except Exception as e:\n",
        "                pass\n",
        "    return all_data"
      ],
      "metadata": {
        "id": "AmSajRS1nLl-"
      },
      "execution_count": 23,
      "outputs": []
    },
    {
      "cell_type": "code",
      "source": [
        "# Veri kümesini özelliklere ve etiketlere dönüştürme\n",
        "all_data = create_all_data()\n",
        "np.random.shuffle(all_data)\n",
        "\n",
        "# Verileri özelliklere (X) ve etiketlere (y) ayırma\n",
        "X = []\n",
        "y = []\n",
        "\n",
        "for features, label in all_data:\n",
        "    X.append(features)\n",
        "    y.append(label)\n",
        "\n",
        "# Görüntüleri normalleştirme ve numpy dizilerine dönüştürme\n",
        "X = np.array(X).reshape(-1, IMG_SIZE, IMG_SIZE, 3)\n",
        "X = X / 255.0\n",
        "y = np.array(y)"
      ],
      "metadata": {
        "id": "DtIC_MESnSRS"
      },
      "execution_count": 24,
      "outputs": []
    },
    {
      "cell_type": "code",
      "source": [
        "# Senaryo 2: %70 Train, %30 Test ve %10 Validation\n",
        "x_train, x_test, y_train, y_test = train_test_split(X, y, test_size=0.30, random_state=42)\n",
        "x_train, x_val, y_train, y_val = train_test_split(x_train, y_train, test_size=0.10, random_state=42)\n"
      ],
      "metadata": {
        "id": "FqPc-ZB-nkXr"
      },
      "execution_count": 35,
      "outputs": []
    },
    {
      "cell_type": "code",
      "source": [
        "# Etiketleri one-hot kodlanmış biçime dönüştürme\n",
        "y_train = to_categorical(y_train, num_classes=len(CATEGORIES))\n",
        "y_val = to_categorical(y_val, num_classes=len(CATEGORIES))\n",
        "y_test = to_categorical(y_test, num_classes=len(CATEGORIES))\n"
      ],
      "metadata": {
        "id": "0Q3mCrrcoDjY"
      },
      "execution_count": 36,
      "outputs": []
    },
    {
      "cell_type": "code",
      "source": [
        "# ImageNet üzerinde önceden eğitilmiş VGG16 modelini üst katmanı olmadan yükleme\n",
        "base_model = VGG16(weights='imagenet', include_top=False, input_shape=(IMG_SIZE, IMG_SIZE, 3))\n",
        "\n",
        "for layer in base_model.layers:\n",
        "    layer.trainable = False\n"
      ],
      "metadata": {
        "id": "waAb4_HVpA2V"
      },
      "execution_count": 37,
      "outputs": []
    },
    {
      "cell_type": "code",
      "source": [
        "# Yeni bir sıralı model oluşturma ve önceden eğitilmiş modeli ve özel katmanları ekleme\n",
        "model = Sequential([\n",
        "    base_model,\n",
        "    Flatten(),\n",
        "    Dense(512, activation='relu'),\n",
        "    Dropout(0.5),\n",
        "    Dense(len(CATEGORIES), activation='softmax')\n",
        "])"
      ],
      "metadata": {
        "id": "ytEIaSolpJF0"
      },
      "execution_count": 38,
      "outputs": []
    },
    {
      "cell_type": "code",
      "source": [
        "# Modeli Adam optimizer ve kategorik çapraz entropi kaybı ile derleme\n",
        "model.compile(optimizer='adam', loss='categorical_crossentropy', metrics=['accuracy'])\n"
      ],
      "metadata": {
        "id": "lkNCd31ypc2p"
      },
      "execution_count": 39,
      "outputs": []
    },
    {
      "cell_type": "code",
      "source": [
        "# Modeli eğitim verileri üzerinde eğitme ve doğrulama verileri üzerinde doğrulama\n",
        "model.fit(x_train, y_train, batch_size=32, epochs=10, validation_data=(x_val, y_val))\n"
      ],
      "metadata": {
        "colab": {
          "base_uri": "https://localhost:8080/"
        },
        "id": "9hoOtT3Ypifo",
        "outputId": "f9d2ece9-e7e0-488c-81ac-005cfa2492f5"
      },
      "execution_count": 40,
      "outputs": [
        {
          "output_type": "stream",
          "name": "stdout",
          "text": [
            "Epoch 1/10\n",
            "266/266 [==============================] - 264s 991ms/step - loss: 0.4558 - accuracy: 0.8343 - val_loss: 0.2585 - val_accuracy: 0.9163\n",
            "Epoch 2/10\n",
            "266/266 [==============================] - 257s 968ms/step - loss: 0.2442 - accuracy: 0.9137 - val_loss: 0.2684 - val_accuracy: 0.9089\n",
            "Epoch 3/10\n",
            "266/266 [==============================] - 258s 970ms/step - loss: 0.1997 - accuracy: 0.9320 - val_loss: 0.1727 - val_accuracy: 0.9417\n",
            "Epoch 4/10\n",
            "266/266 [==============================] - 258s 970ms/step - loss: 0.1743 - accuracy: 0.9378 - val_loss: 0.1621 - val_accuracy: 0.9523\n",
            "Epoch 5/10\n",
            "266/266 [==============================] - 258s 968ms/step - loss: 0.1498 - accuracy: 0.9475 - val_loss: 0.1576 - val_accuracy: 0.9555\n",
            "Epoch 6/10\n",
            "266/266 [==============================] - 258s 969ms/step - loss: 0.1372 - accuracy: 0.9508 - val_loss: 0.1548 - val_accuracy: 0.9523\n",
            "Epoch 7/10\n",
            "266/266 [==============================] - 258s 970ms/step - loss: 0.1342 - accuracy: 0.9521 - val_loss: 0.1529 - val_accuracy: 0.9566\n",
            "Epoch 8/10\n",
            "266/266 [==============================] - 259s 976ms/step - loss: 0.1260 - accuracy: 0.9544 - val_loss: 0.1511 - val_accuracy: 0.9513\n",
            "Epoch 9/10\n",
            "266/266 [==============================] - 259s 973ms/step - loss: 0.1060 - accuracy: 0.9638 - val_loss: 0.1370 - val_accuracy: 0.9619\n",
            "Epoch 10/10\n",
            "266/266 [==============================] - 257s 967ms/step - loss: 0.1086 - accuracy: 0.9615 - val_loss: 0.1305 - val_accuracy: 0.9566\n"
          ]
        },
        {
          "output_type": "execute_result",
          "data": {
            "text/plain": [
              "<keras.src.callbacks.History at 0x7fb0e07575e0>"
            ]
          },
          "metadata": {},
          "execution_count": 40
        }
      ]
    },
    {
      "cell_type": "code",
      "source": [
        "# Modeli test kümesi üzerinde değerlendirme\n",
        "test_loss, test_acc = model.evaluate(x_test, y_test)\n",
        "print(\"\\nTest accuracy: \", test_acc)"
      ],
      "metadata": {
        "colab": {
          "base_uri": "https://localhost:8080/"
        },
        "id": "S8Kk49iJubyu",
        "outputId": "f6f5a3c9-113d-4c62-bb4b-f35d363d2f4f"
      },
      "execution_count": 41,
      "outputs": [
        {
          "output_type": "stream",
          "name": "stdout",
          "text": [
            "127/127 [==============================] - 110s 863ms/step - loss: 0.1167 - accuracy: 0.9612\n",
            "\n",
            "Test accuracy:  0.9611770510673523\n"
          ]
        }
      ]
    },
    {
      "cell_type": "code",
      "source": [
        "# Test seti üzerindeki tahminleri gösterme\n",
        "y_pred = model.predict(x_test)\n",
        "y_pred_classes = np.argmax(y_pred, axis=1)\n",
        "y_true = np.argmax(y_test, axis=1)"
      ],
      "metadata": {
        "colab": {
          "base_uri": "https://localhost:8080/"
        },
        "id": "SmTvLm5wukg6",
        "outputId": "cb14a253-98ec-4fd3-d18c-3d32d20b89f2"
      },
      "execution_count": 42,
      "outputs": [
        {
          "output_type": "stream",
          "name": "stdout",
          "text": [
            "127/127 [==============================] - 111s 870ms/step\n"
          ]
        }
      ]
    },
    {
      "cell_type": "code",
      "source": [
        "# Metrikleri hesaplama\n",
        "accuracy = accuracy_score(y_true, y_pred_classes)\n",
        "precision = precision_score(y_true, y_pred_classes, average='weighted')\n",
        "recall = recall_score(y_true, y_pred_classes, average='weighted')\n",
        "f1 = f1_score(y_true, y_pred_classes, average='weighted')"
      ],
      "metadata": {
        "id": "34y_PBedurL8"
      },
      "execution_count": 43,
      "outputs": []
    },
    {
      "cell_type": "code",
      "source": [
        "# Karışıklık Matrisi ve Sınıflandırma Raporu\n",
        "conf_matrix = confusion_matrix(y_true, y_pred_classes)\n",
        "class_report = classification_report(y_true, y_pred_classes)\n"
      ],
      "metadata": {
        "id": "MdlkMCqluzo7"
      },
      "execution_count": 44,
      "outputs": []
    },
    {
      "cell_type": "code",
      "source": [
        "# Metrikleri görüntüleme\n",
        "print(\"Accuracy:\", accuracy)\n",
        "print(\"Precision: \", precision)\n",
        "print(\"Recall: \", recall)\n",
        "print(\"F1 Score: \", f1)\n",
        "print(\"\\nConfusion Matrix:\\n\", conf_matrix)\n",
        "print(\"\\nClassification Report:\\n\", class_report)\n"
      ],
      "metadata": {
        "colab": {
          "base_uri": "https://localhost:8080/"
        },
        "id": "0FpyZ3v0u5rg",
        "outputId": "a8b302de-cfd3-49ee-cf8b-ba98efd00217"
      },
      "execution_count": 45,
      "outputs": [
        {
          "output_type": "stream",
          "name": "stdout",
          "text": [
            "Accuracy: 0.9611770524233432\n",
            "Precision:  0.9611928367726147\n",
            "Recall:  0.9611770524233432\n",
            "F1 Score:  0.9611679670128039\n",
            "\n",
            "Confusion Matrix:\n",
            " [[ 783   28   10    5]\n",
            " [  19 1125   25    4]\n",
            " [  28   20 1317    9]\n",
            " [   0    1    8  662]]\n",
            "\n",
            "Classification Report:\n",
            "               precision    recall  f1-score   support\n",
            "\n",
            "           0       0.94      0.95      0.95       826\n",
            "           1       0.96      0.96      0.96      1173\n",
            "           2       0.97      0.96      0.96      1374\n",
            "           3       0.97      0.99      0.98       671\n",
            "\n",
            "    accuracy                           0.96      4044\n",
            "   macro avg       0.96      0.96      0.96      4044\n",
            "weighted avg       0.96      0.96      0.96      4044\n",
            "\n"
          ]
        }
      ]
    }
  ]
}