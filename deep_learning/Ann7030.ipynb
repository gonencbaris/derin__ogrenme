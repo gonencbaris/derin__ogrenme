{
 "nbformat": 4,
 "nbformat_minor": 0,
 "metadata": {
  "colab": {
   "provenance": [],
   "toc_visible": true
  },
  "kernelspec": {
   "name": "python3",
   "display_name": "Python 3"
  },
  "language_info": {
   "name": "python"
  }
 },
 "cells": [
  {
   "cell_type": "code",
   "execution_count": 17,
   "metadata": {
    "colab": {
     "base_uri": "https://localhost:8080/"
    },
    "id": "a_qlEZ7lCPB4",
    "outputId": "74a2db2a-54e3-4e61-cd6b-2218b6da03cb"
   },
   "outputs": [
    {
     "output_type": "stream",
     "name": "stdout",
     "text": [
      "Drive already mounted at /gdrive; to attempt to forcibly remount, call drive.mount(\"/gdrive\", force_remount=True).\n"
     ]
    }
   ],
   "source": [
    "from google.colab import drive\n",
    "drive.mount('/gdrive')"
   ]
  },
  {
   "cell_type": "code",
   "source": [
    "import numpy as np\n",
    "import pandas as pd\n",
    "import matplotlib.pyplot as plt\n",
    "import os\n",
    "import cv2\n",
    "import tensorflow as tf\n",
    "import seaborn as sns\n",
    "from sklearn.model_selection import train_test_split\n",
    "from keras.models import Sequential\n",
    "from keras.layers import Dense, Flatten\n",
    "from tensorflow.keras.utils import to_categorical\n",
    "from sklearn.metrics import accuracy_score, precision_score, recall_score, f1_score, confusion_matrix, classification_report"
   ],
   "metadata": {
    "id": "uelKQSs5Cj0x"
   },
   "execution_count": 18,
   "outputs": []
  },
  {
   "cell_type": "code",
   "source": [
    "print(os.listdir(\"/gdrive/My Drive/Colab Notebooks/ANN/BANANA\"))"
   ],
   "metadata": {
    "colab": {
     "base_uri": "https://localhost:8080/"
    },
    "id": "KPVfAAS_Cocp",
    "outputId": "0f1cd827-fb16-4ae0-9ab1-3bc5a30ea765"
   },
   "execution_count": 19,
   "outputs": [
    {
     "output_type": "stream",
     "name": "stdout",
     "text": [
      "['ripe', 'unripe', 'overripe', 'rotten']\n"
     ]
    }
   ]
  },
  {
   "cell_type": "code",
   "source": [
    "DATADIR = '/gdrive/My Drive/Colab Notebooks/ANN/BANANA'\n",
    "CATEGORIES =[\"overripe\",\"ripe\",\"rotten\",\"unripe\"]\n",
    "IMG_SIZE = 100"
   ],
   "metadata": {
    "id": "SkZbZJJSCpDg"
   },
   "execution_count": 20,
   "outputs": []
  },
  {
   "cell_type": "code",
   "source": [
    "all_data =[]\n",
    "\n",
    "def create_all_data():\n",
    "    for category in CATEGORIES:\n",
    "        path=os.path.join(DATADIR, category)\n",
    "        class_num=CATEGORIES.index(category)\n",
    "        for img in os.listdir(path):\n",
    "            try:\n",
    "                img_array=cv2.imread(os.path.join(path,img))\n",
    "                new_array=cv2.resize(img_array,(IMG_SIZE,IMG_SIZE))\n",
    "                all_data.append([new_array,class_num])\n",
    "            except Exception as e:\n",
    "                print(\"hata\")\n",
    "create_all_data()"
   ],
   "metadata": {
    "id": "-HtZ5hUaCq8h"
   },
   "execution_count": 21,
   "outputs": []
  },
  {
   "cell_type": "code",
   "source": [
    "print(\"toplam görüntü sayısı: \",len(all_data))"
   ],
   "metadata": {
    "colab": {
     "base_uri": "https://localhost:8080/"
    },
    "id": "_DhxoE6SCtYA",
    "outputId": "78efaa8f-fba5-467c-e966-25098ed7077e"
   },
   "execution_count": 22,
   "outputs": [
    {
     "output_type": "stream",
     "name": "stdout",
     "text": [
      "toplam görüntü sayısı:  13478\n"
     ]
    }
   ]
  },
  {
   "cell_type": "code",
   "source": [
    "X = []\n",
    "y = []\n",
    "for features, label in all_data:\n",
    "    X.append(features)\n",
    "    y.append(label)\n",
    "\n",
    "X = np.array(X).reshape(-1, IMG_SIZE * IMG_SIZE * 3) # Düzleştirme işlemi\n",
    "y = np.array(y)"
   ],
   "metadata": {
    "id": "-Ivl98-uCv5p"
   },
   "execution_count": 23,
   "outputs": []
  },
  {
   "cell_type": "code",
   "source": [
    "# Veriyi bölme\n",
    "x_train, x_test, y_train, y_test = train_test_split(X, y, test_size=0.30, random_state=42)\n",
    "x_train, x_val, y_train, y_val = train_test_split(x_train, y_train, test_size=0.10, random_state=42)\n"
   ],
   "metadata": {
    "id": "bDg2JzlLCx3A"
   },
   "execution_count": 24,
   "outputs": []
  },
  {
   "cell_type": "code",
   "source": [
    "# Etiketleri one-hot kodlama\n",
    "y_train = to_categorical(y_train, num_classes=4)\n",
    "y_test = to_categorical(y_test, num_classes=4)\n",
    "y_val = to_categorical(y_val, num_classes=4)"
   ],
   "metadata": {
    "id": "FOtcdvl2C0Hg"
   },
   "execution_count": 25,
   "outputs": []
  },
  {
   "cell_type": "code",
   "source": [
    "from tensorflow.keras.applications import EfficientNetB0\n",
    "from tensorflow.keras.models import Sequential\n",
    "from tensorflow.keras.layers import Dense, Flatten\n",
    "from tensorflow.keras.optimizers import Adam\n",
    "from tensorflow.keras.preprocessing.image import ImageDataGenerator\n",
    "\n",
    "# Önceden eğitilmiş EfficientNetB0 modelini yükleme\n",
    "base_model = EfficientNetB0(weights='imagenet', include_top=False, input_shape=(IMG_SIZE, IMG_SIZE, 3))\n",
    "\n",
    "# Önceden eğitilmiş modelin katmanlarını dondurma\n",
    "base_model.trainable = False\n",
    "\n",
    "# EfficientNetB0'ın üzerine sıralı bir model oluşturma\n",
    "model = Sequential()\n",
    "model.add(base_model)\n",
    "model.add(Flatten())\n",
    "model.add(Dense(1024, activation='relu'))\n",
    "model.add(Dense(512, activation='relu'))\n",
    "model.add(Dense(256, activation='relu'))\n",
    "model.add(Dense(4, activation='softmax'))\n",
    "\n",
    "# Optimizasyon Algoritmasını Ayarla\n",
    "optimizer = Adam(learning_rate=0.0001)\n",
    "model.compile(loss='categorical_crossentropy', optimizer=optimizer, metrics=['accuracy'])\n",
    "\n",
    "# Veri Artırma\n",
    "datagen = ImageDataGenerator(\n",
    "    rotation_range=20,\n",
    "    width_shift_range=0.2,\n",
    "    height_shift_range=0.2,\n",
    "    shear_range=0.2,\n",
    "    zoom_range=0.2,\n",
    "    horizontal_flip=True,\n",
    "    fill_mode='nearest'\n",
    ")\n",
    "x_train = x_train.reshape((-1, IMG_SIZE, IMG_SIZE, 3))\n",
    "x_val = x_val.reshape((-1, IMG_SIZE, IMG_SIZE, 3))\n",
    "\n",
    "\n",
    "\n",
    "\n",
    "# Veri artırma jeneratörünü uygun hale getir\n",
    "datagen.fit(x_train)\n",
    "\n",
    "# Modeli eğitme\n",
    "model.fit(datagen.flow(x_train, y_train, batch_size=32), validation_data=(x_val, y_val), epochs=10)\n"
   ],
   "metadata": {
    "colab": {
     "base_uri": "https://localhost:8080/"
    },
    "id": "aOYEMlBIC2Gq",
    "outputId": "0d655d00-4f6b-4cd6-a1b9-d8139e9c7e4a"
   },
   "execution_count": 26,
   "outputs": [
    {
     "output_type": "stream",
     "name": "stdout",
     "text": [
      "Epoch 1/10\n",
      "266/266 [==============================] - 308s 1s/step - loss: 0.3910 - accuracy: 0.8549 - val_loss: 0.2313 - val_accuracy: 0.9163\n",
      "Epoch 2/10\n",
      "266/266 [==============================] - 299s 1s/step - loss: 0.2423 - accuracy: 0.9124 - val_loss: 0.2076 - val_accuracy: 0.9237\n",
      "Epoch 3/10\n",
      "266/266 [==============================] - 295s 1s/step - loss: 0.2052 - accuracy: 0.9224 - val_loss: 0.1957 - val_accuracy: 0.9322\n",
      "Epoch 4/10\n",
      "266/266 [==============================] - 297s 1s/step - loss: 0.1819 - accuracy: 0.9335 - val_loss: 0.1999 - val_accuracy: 0.9343\n",
      "Epoch 5/10\n",
      "266/266 [==============================] - 298s 1s/step - loss: 0.1760 - accuracy: 0.9351 - val_loss: 0.1569 - val_accuracy: 0.9407\n",
      "Epoch 6/10\n",
      "266/266 [==============================] - 300s 1s/step - loss: 0.1631 - accuracy: 0.9408 - val_loss: 0.1539 - val_accuracy: 0.9481\n",
      "Epoch 7/10\n",
      "266/266 [==============================] - 295s 1s/step - loss: 0.1534 - accuracy: 0.9429 - val_loss: 0.1419 - val_accuracy: 0.9460\n",
      "Epoch 8/10\n",
      "266/266 [==============================] - 291s 1s/step - loss: 0.1435 - accuracy: 0.9502 - val_loss: 0.1509 - val_accuracy: 0.9449\n",
      "Epoch 9/10\n",
      "266/266 [==============================] - 291s 1s/step - loss: 0.1277 - accuracy: 0.9524 - val_loss: 0.1599 - val_accuracy: 0.9428\n",
      "Epoch 10/10\n",
      "266/266 [==============================] - 294s 1s/step - loss: 0.1223 - accuracy: 0.9557 - val_loss: 0.1392 - val_accuracy: 0.9544\n"
     ]
    },
    {
     "output_type": "execute_result",
     "data": {
      "text/plain": [
       "<keras.src.callbacks.History at 0x7cba2fe3f040>"
      ]
     },
     "metadata": {},
     "execution_count": 26
    }
   ]
  },
  {
   "cell_type": "code",
   "source": [
    "# Test seti üzerinde değerlendirme\n",
    "x_test = x_test.reshape((-1, IMG_SIZE, IMG_SIZE, 3))\n",
    "y_pred = np.argmax(model.predict(x_test), axis=1)\n",
    "y_true = np.argmax(y_test, axis=1)\n"
   ],
   "metadata": {
    "colab": {
     "base_uri": "https://localhost:8080/"
    },
    "id": "1djTpCpMC4ax",
    "outputId": "05008741-86d3-4980-8bfe-4140e5886dfd"
   },
   "execution_count": 27,
   "outputs": [
    {
     "output_type": "stream",
     "name": "stdout",
     "text": [
      "127/127 [==============================] - 68s 522ms/step\n"
     ]
    }
   ]
  },
  {
   "cell_type": "code",
   "source": [
    "# Performans metrikleri\n",
    "accuracy = accuracy_score(y_true, y_pred)\n",
    "precision = precision_score(y_true, y_pred, average=\"weighted\")\n",
    "recall = recall_score(y_true, y_pred, average=\"weighted\")\n",
    "f1 = f1_score(y_true, y_pred, average=\"weighted\")\n"
   ],
   "metadata": {
    "id": "OxO1yfc8C6VJ"
   },
   "execution_count": 28,
   "outputs": []
  },
  {
   "cell_type": "code",
   "source": [
    "# Sonuçları gösterme\n",
    "print(\"Accuracy: \", accuracy)\n",
    "print(\"Precision: \", precision)\n",
    "print(\"Recall: \", recall)\n",
    "print(\"F1 Score: \", f1)\n",
    "print(\"\\nConfusion Matrix:\\n\", confusion_matrix(y_true, y_pred))\n",
    "print(\"\\nClassification Report:\\n\", classification_report(y_true, y_pred))"
   ],
   "metadata": {
    "colab": {
     "base_uri": "https://localhost:8080/"
    },
    "id": "kHXbwLa8C8LY",
    "outputId": "870309c2-a389-4f11-cade-42d8767a58f1"
   },
   "execution_count": 29,
   "outputs": [
    {
     "output_type": "stream",
     "name": "stdout",
     "text": [
      "Accuracy:  0.9495548961424333\n",
      "Precision:  0.9499919458489734\n",
      "Recall:  0.9495548961424333\n",
      "F1 Score:  0.9495223352401916\n",
      "\n",
      "Confusion Matrix:\n",
      " [[ 769   47    6    0]\n",
      " [  16 1140   30    7]\n",
      " [  26   13 1314    5]\n",
      " [   0    5   49  617]]\n",
      "\n",
      "Classification Report:\n",
      "               precision    recall  f1-score   support\n",
      "\n",
      "           0       0.95      0.94      0.94       822\n",
      "           1       0.95      0.96      0.95      1193\n",
      "           2       0.94      0.97      0.95      1358\n",
      "           3       0.98      0.92      0.95       671\n",
      "\n",
      "    accuracy                           0.95      4044\n",
      "   macro avg       0.95      0.94      0.95      4044\n",
      "weighted avg       0.95      0.95      0.95      4044\n"
     ]
    }
   ]
  }
 ]
}
