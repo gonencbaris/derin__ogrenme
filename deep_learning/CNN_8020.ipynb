{
  "nbformat": 4,
  "nbformat_minor": 0,
  "metadata": {
    "colab": {
      "provenance": [],
      "gpuType": "T4",
      "machine_shape": "hm"
    },
    "kernelspec": {
      "name": "python3",
      "display_name": "Python 3"
    },
    "language_info": {
      "name": "python"
    },
    "accelerator": "GPU"
  },
  "cells": [
    {
      "cell_type": "code",
      "execution_count": 1,
      "metadata": {
        "colab": {
          "base_uri": "https://localhost:8080/"
        },
        "id": "_1WWVE6ivr_r",
        "outputId": "c561c041-d0a1-462c-ee2a-5e52568b2c11"
      },
      "outputs": [
        {
          "output_type": "stream",
          "name": "stdout",
          "text": [
            "Mounted at /gdrive\n"
          ]
        }
      ],
      "source": [
        "from google.colab import drive\n",
        "drive.mount('/gdrive')"
      ]
    },
    {
      "cell_type": "code",
      "source": [
        "# Gerekli kütüphaneleri içe aktarma\n",
        "import numpy as np\n",
        "import cv2\n",
        "import os\n",
        "import tensorflow as tf\n",
        "from sklearn.model_selection import train_test_split\n",
        "from keras.layers import Input, Dense, Activation, BatchNormalization, Flatten, Conv2D, MaxPooling2D, Dropout\n",
        "from keras.models import Sequential\n",
        "from sklearn.metrics import accuracy_score, precision_score, recall_score, f1_score, confusion_matrix, classification_report\n",
        "from keras.callbacks import ModelCheckpoint, EarlyStopping\n",
        "from tensorflow.keras.utils import to_categorical\n",
        "import kerastuner as kt\n"
      ],
      "metadata": {
        "id": "XuzUccKXz7Yy",
        "colab": {
          "base_uri": "https://localhost:8080/"
        },
        "outputId": "9654c23a-4925-4118-c299-ecf0b543ef8c"
      },
      "execution_count": 2,
      "outputs": [
        {
          "output_type": "stream",
          "name": "stderr",
          "text": [
            "<ipython-input-2-db36f9c1ed2a>:12: DeprecationWarning: `import kerastuner` is deprecated, please use `import keras_tuner`.\n",
            "  import kerastuner as kt\n"
          ]
        }
      ]
    },
    {
      "cell_type": "code",
      "source": [
        "import os\n",
        "print(os.listdir(\"/gdrive/My Drive/Banana_Ripeness_Classification\"))\n"
      ],
      "metadata": {
        "colab": {
          "base_uri": "https://localhost:8080/"
        },
        "id": "9pOWuyNj0ABB",
        "outputId": "8281def1-760a-4ae0-a977-b9c612b8d7b6"
      },
      "execution_count": 3,
      "outputs": [
        {
          "output_type": "stream",
          "name": "stdout",
          "text": [
            "['unripe', 'ripe', 'rotten', 'overripe']\n"
          ]
        }
      ]
    },
    {
      "cell_type": "code",
      "source": [
        "DATADIR = '/gdrive/My Drive/Banana_Ripeness_Classification/'\n",
        "CATEGORIES = [\"overripe\", \"ripe\", \"rotten\", \"unripe\"]\n",
        "IMG_SIZE = 100\n"
      ],
      "metadata": {
        "id": "fS21WrZzLqY6"
      },
      "execution_count": 4,
      "outputs": []
    },
    {
      "cell_type": "code",
      "source": [
        "def create_all_data():\n",
        "    all_data = []\n",
        "    for category in CATEGORIES:\n",
        "        path = os.path.join(DATADIR, category)\n",
        "        class_num = CATEGORIES.index(category)\n",
        "        for img in os.listdir(path):\n",
        "            try:\n",
        "                img_array = cv2.imread(os.path.join(path, img))\n",
        "                new_array = cv2.resize(img_array, (IMG_SIZE, IMG_SIZE))\n",
        "                all_data.append([new_array, class_num])\n",
        "            except Exception as e:\n",
        "                pass\n",
        "    return all_data"
      ],
      "metadata": {
        "id": "q992c9li-Op3"
      },
      "execution_count": 5,
      "outputs": []
    },
    {
      "cell_type": "code",
      "source": [
        "all_data = create_all_data()\n",
        "print(\"Total number of images:\", len(all_data))"
      ],
      "metadata": {
        "colab": {
          "base_uri": "https://localhost:8080/"
        },
        "id": "U5VPQNqA_rXq",
        "outputId": "50eab231-5a2d-434a-8b4b-3f656b50d080"
      },
      "execution_count": 6,
      "outputs": [
        {
          "output_type": "stream",
          "name": "stdout",
          "text": [
            "Total number of images: 13478\n"
          ]
        }
      ]
    },
    {
      "cell_type": "code",
      "source": [
        "\n",
        "X = []\n",
        "y = []\n",
        "for features, label in all_data:\n",
        "    X.append(features)\n",
        "    y.append(label)\n",
        "\n",
        "X = np.array(X).reshape(-1, IMG_SIZE, IMG_SIZE, 3)\n",
        "y = np.array(y)\n"
      ],
      "metadata": {
        "id": "0_uSbvcjUe0X"
      },
      "execution_count": 7,
      "outputs": []
    },
    {
      "cell_type": "code",
      "source": [
        "from sklearn.model_selection import train_test_split\n",
        "x_train, x_test, y_train, y_test = train_test_split(X, y, test_size=0.20, random_state=42)\n",
        "x_train, x_val, y_train, y_val = train_test_split(x_train, y_train, test_size=0.10, random_state=42)\n"
      ],
      "metadata": {
        "id": "4Oc_hkOMUj8G"
      },
      "execution_count": 8,
      "outputs": []
    },
    {
      "cell_type": "code",
      "source": [
        "# Etiketleri kategorik hale dönüştürme\n",
        "train_yCl = to_categorical(y_train, num_classes=4)\n",
        "test_yCl = to_categorical(y_test, num_classes=4)\n",
        "valid_yCl = to_categorical(y_val, num_classes=4)"
      ],
      "metadata": {
        "id": "hz6IxUE_UofU"
      },
      "execution_count": 9,
      "outputs": []
    },
    {
      "cell_type": "code",
      "source": [
        "print(y_test)"
      ],
      "metadata": {
        "colab": {
          "base_uri": "https://localhost:8080/"
        },
        "id": "uVY12K3rp8na",
        "outputId": "b3f19197-3e4d-4c7c-83bc-a0b2a86fb703"
      },
      "execution_count": 10,
      "outputs": [
        {
          "output_type": "stream",
          "name": "stdout",
          "text": [
            "[1 1 3 ... 1 3 3]\n"
          ]
        }
      ]
    },
    {
      "cell_type": "code",
      "source": [
        "def build_model(hp):\n",
        "    model = Sequential()\n",
        "\n",
        "    # İlk Conv2D katmanındaki birim sayısını ayarlama\n",
        "    model.add(Conv2D(hp.Int('conv_1_units', min_value=32, max_value=128, step=32),\n",
        "                     (3, 3), padding='same',\n",
        "                     input_shape=(IMG_SIZE, IMG_SIZE, 3)))\n",
        "    model.add(Activation('relu'))\n",
        "    model.add(MaxPooling2D(pool_size=(2, 2)))\n",
        "\n",
        "   # İkinci Conv2D katmanındaki birim sayısını ayarlama\n",
        "    model.add(Conv2D(hp.Int('conv_2_units', min_value=32, max_value=128, step=32),\n",
        "                     (3, 3), padding='same'))\n",
        "    model.add(Activation('relu'))\n",
        "    model.add(MaxPooling2D(pool_size=(2, 2)))\n",
        "\n",
        "    model.add(Flatten())\n",
        "\n",
        "    # Dense katmanındaki nöron sayısını ayarlama\n",
        "    model.add(Dense(hp.Int('dense_units', min_value=64, max_value=256, step=64), activation='relu'))\n",
        "    model.add(Dropout(0.5))\n",
        "    model.add(Dense(4, activation='softmax'))\n",
        "\n",
        "    model.compile(optimizer='adam',\n",
        "                  loss='categorical_crossentropy',\n",
        "                  metrics=['accuracy'])\n",
        "\n",
        "    return model"
      ],
      "metadata": {
        "id": "izR1RIleUqgD"
      },
      "execution_count": 11,
      "outputs": []
    },
    {
      "cell_type": "code",
      "source": [
        "# Hiperparametre ayarlayıcısını başlatma\n",
        "tuner = kt.RandomSearch(\n",
        "    build_model,\n",
        "    objective='val_accuracy',\n",
        "    max_trials=5,\n",
        "    executions_per_trial=1,\n",
        "    directory='my_dir',\n",
        "    project_name='banana_classification'\n",
        ")\n",
        "\n"
      ],
      "metadata": {
        "id": "aygmwpfaUt5_"
      },
      "execution_count": 12,
      "outputs": []
    },
    {
      "cell_type": "code",
      "source": [
        "print(y_test)"
      ],
      "metadata": {
        "colab": {
          "base_uri": "https://localhost:8080/"
        },
        "id": "pW6OdG_RpHH3",
        "outputId": "28e3ac44-3d73-40bf-d24b-6a15e6ccf31c"
      },
      "execution_count": 13,
      "outputs": [
        {
          "output_type": "stream",
          "name": "stdout",
          "text": [
            "[1 1 3 ... 1 3 3]\n"
          ]
        }
      ]
    },
    {
      "cell_type": "code",
      "source": [
        "# Geri çağırmaları tanımma\n",
        "callbacks = [\n",
        "    EarlyStopping(monitor='val_loss', patience=10)\n",
        "]\n",
        "\n",
        "# Hiperparametre ayarlamasını başlatma\n",
        "tuner.search(x_train, train_yCl, batch_size=32, epochs=10, validation_data=(x_val, valid_yCl), callbacks=callbacks)\n"
      ],
      "metadata": {
        "id": "DcutY0cAUw2T",
        "outputId": "e2729e3d-4c0e-46fa-c637-57fe39b4289c",
        "colab": {
          "base_uri": "https://localhost:8080/"
        }
      },
      "execution_count": 14,
      "outputs": [
        {
          "output_type": "stream",
          "name": "stdout",
          "text": [
            "Trial 5 Complete [00h 01m 27s]\n",
            "val_accuracy: 0.5291936993598938\n",
            "\n",
            "Best val_accuracy So Far: 0.5959221720695496\n",
            "Total elapsed time: 00h 05m 35s\n"
          ]
        }
      ]
    },
    {
      "cell_type": "code",
      "source": [
        "# En iyi hiperparametreleri elde edme\n",
        "best_hps = tuner.get_best_hyperparameters(num_trials=1)[0]\n",
        "\n",
        "# Modeli en iyi hiperparametrelerle oluşturma ve eğitme\n",
        "model = tuner.hypermodel.build(best_hps)\n",
        "history = model.fit(x_train, train_yCl, epochs=50, validation_data=(x_val, valid_yCl))\n"
      ],
      "metadata": {
        "id": "GnhjCuuCHvev",
        "outputId": "edfc7125-d94b-49ad-eb7c-ab797e36c272",
        "colab": {
          "base_uri": "https://localhost:8080/"
        }
      },
      "execution_count": 18,
      "outputs": [
        {
          "output_type": "stream",
          "name": "stdout",
          "text": [
            "Epoch 1/50\n",
            "304/304 [==============================] - 6s 17ms/step - loss: 8.0003 - accuracy: 0.3380 - val_loss: 1.3083 - val_accuracy: 0.3976\n",
            "Epoch 2/50\n",
            "304/304 [==============================] - 5s 16ms/step - loss: 1.3178 - accuracy: 0.3806 - val_loss: 1.2839 - val_accuracy: 0.3957\n",
            "Epoch 3/50\n",
            "304/304 [==============================] - 5s 16ms/step - loss: 1.2500 - accuracy: 0.4296 - val_loss: 1.1992 - val_accuracy: 0.4606\n",
            "Epoch 4/50\n",
            "304/304 [==============================] - 5s 16ms/step - loss: 1.1774 - accuracy: 0.4710 - val_loss: 1.1859 - val_accuracy: 0.4791\n",
            "Epoch 5/50\n",
            "304/304 [==============================] - 5s 16ms/step - loss: 1.0977 - accuracy: 0.5204 - val_loss: 1.2247 - val_accuracy: 0.4847\n",
            "Epoch 6/50\n",
            "304/304 [==============================] - 5s 16ms/step - loss: 1.0082 - accuracy: 0.5723 - val_loss: 1.0286 - val_accuracy: 0.5755\n",
            "Epoch 7/50\n",
            "304/304 [==============================] - 5s 16ms/step - loss: 0.9150 - accuracy: 0.6154 - val_loss: 1.1153 - val_accuracy: 0.5032\n",
            "Epoch 8/50\n",
            "304/304 [==============================] - 5s 16ms/step - loss: 0.8967 - accuracy: 0.6285 - val_loss: 0.8841 - val_accuracy: 0.6413\n",
            "Epoch 9/50\n",
            "304/304 [==============================] - 5s 16ms/step - loss: 0.7168 - accuracy: 0.7187 - val_loss: 1.0828 - val_accuracy: 0.5468\n",
            "Epoch 10/50\n",
            "304/304 [==============================] - 5s 16ms/step - loss: 0.8352 - accuracy: 0.6565 - val_loss: 0.8688 - val_accuracy: 0.6580\n",
            "Epoch 11/50\n",
            "304/304 [==============================] - 5s 16ms/step - loss: 0.5537 - accuracy: 0.7888 - val_loss: 0.6921 - val_accuracy: 0.7340\n",
            "Epoch 12/50\n",
            "304/304 [==============================] - 5s 16ms/step - loss: 0.4155 - accuracy: 0.8476 - val_loss: 0.5997 - val_accuracy: 0.7998\n",
            "Epoch 13/50\n",
            "304/304 [==============================] - 5s 16ms/step - loss: 0.3579 - accuracy: 0.8692 - val_loss: 0.6166 - val_accuracy: 0.7952\n",
            "Epoch 14/50\n",
            "304/304 [==============================] - 5s 16ms/step - loss: 0.2827 - accuracy: 0.8962 - val_loss: 0.6240 - val_accuracy: 0.8082\n",
            "Epoch 15/50\n",
            "304/304 [==============================] - 5s 16ms/step - loss: 0.2639 - accuracy: 0.9054 - val_loss: 0.5429 - val_accuracy: 0.8517\n",
            "Epoch 16/50\n",
            "304/304 [==============================] - 5s 16ms/step - loss: 0.2277 - accuracy: 0.9213 - val_loss: 0.7631 - val_accuracy: 0.7850\n",
            "Epoch 17/50\n",
            "304/304 [==============================] - 5s 16ms/step - loss: 0.2104 - accuracy: 0.9267 - val_loss: 0.7238 - val_accuracy: 0.8165\n",
            "Epoch 18/50\n",
            "304/304 [==============================] - 5s 16ms/step - loss: 0.2286 - accuracy: 0.9214 - val_loss: 0.7939 - val_accuracy: 0.8044\n",
            "Epoch 19/50\n",
            "304/304 [==============================] - 5s 16ms/step - loss: 0.1576 - accuracy: 0.9463 - val_loss: 0.6184 - val_accuracy: 0.8545\n",
            "Epoch 20/50\n",
            "304/304 [==============================] - 5s 16ms/step - loss: 0.1686 - accuracy: 0.9451 - val_loss: 0.7224 - val_accuracy: 0.8397\n",
            "Epoch 21/50\n",
            "304/304 [==============================] - 5s 16ms/step - loss: 0.1748 - accuracy: 0.9486 - val_loss: 1.3836 - val_accuracy: 0.7071\n",
            "Epoch 22/50\n",
            "304/304 [==============================] - 5s 16ms/step - loss: 0.3468 - accuracy: 0.8901 - val_loss: 0.6740 - val_accuracy: 0.8202\n",
            "Epoch 23/50\n",
            "304/304 [==============================] - 5s 16ms/step - loss: 0.1176 - accuracy: 0.9627 - val_loss: 0.7095 - val_accuracy: 0.8647\n",
            "Epoch 24/50\n",
            "304/304 [==============================] - 5s 16ms/step - loss: 0.0867 - accuracy: 0.9717 - val_loss: 0.8512 - val_accuracy: 0.8350\n",
            "Epoch 25/50\n",
            "304/304 [==============================] - 5s 16ms/step - loss: 0.1115 - accuracy: 0.9625 - val_loss: 0.7252 - val_accuracy: 0.8517\n",
            "Epoch 26/50\n",
            "304/304 [==============================] - 5s 16ms/step - loss: 0.1116 - accuracy: 0.9656 - val_loss: 0.8168 - val_accuracy: 0.8480\n",
            "Epoch 27/50\n",
            "304/304 [==============================] - 5s 16ms/step - loss: 0.1019 - accuracy: 0.9703 - val_loss: 0.8780 - val_accuracy: 0.8508\n",
            "Epoch 28/50\n",
            "304/304 [==============================] - 5s 16ms/step - loss: 0.1020 - accuracy: 0.9675 - val_loss: 0.9157 - val_accuracy: 0.8480\n",
            "Epoch 29/50\n",
            "304/304 [==============================] - 5s 16ms/step - loss: 0.1074 - accuracy: 0.9677 - val_loss: 0.9491 - val_accuracy: 0.8489\n",
            "Epoch 30/50\n",
            "304/304 [==============================] - 5s 16ms/step - loss: 0.1003 - accuracy: 0.9702 - val_loss: 0.8129 - val_accuracy: 0.8656\n",
            "Epoch 31/50\n",
            "304/304 [==============================] - 5s 16ms/step - loss: 0.3124 - accuracy: 0.9147 - val_loss: 1.2402 - val_accuracy: 0.8100\n",
            "Epoch 32/50\n",
            "304/304 [==============================] - 5s 16ms/step - loss: 0.0776 - accuracy: 0.9742 - val_loss: 0.7863 - val_accuracy: 0.8814\n",
            "Epoch 33/50\n",
            "304/304 [==============================] - 5s 16ms/step - loss: 0.0646 - accuracy: 0.9800 - val_loss: 0.8980 - val_accuracy: 0.8721\n",
            "Epoch 34/50\n",
            "304/304 [==============================] - 5s 16ms/step - loss: 0.0644 - accuracy: 0.9806 - val_loss: 0.9419 - val_accuracy: 0.8462\n",
            "Epoch 35/50\n",
            "304/304 [==============================] - 5s 16ms/step - loss: 0.0645 - accuracy: 0.9804 - val_loss: 1.0014 - val_accuracy: 0.8424\n",
            "Epoch 36/50\n",
            "304/304 [==============================] - 5s 16ms/step - loss: 0.0796 - accuracy: 0.9771 - val_loss: 1.0057 - val_accuracy: 0.8721\n",
            "Epoch 37/50\n",
            "304/304 [==============================] - 5s 16ms/step - loss: 0.0582 - accuracy: 0.9821 - val_loss: 1.0503 - val_accuracy: 0.8628\n",
            "Epoch 38/50\n",
            "304/304 [==============================] - 5s 16ms/step - loss: 0.0768 - accuracy: 0.9770 - val_loss: 1.1122 - val_accuracy: 0.8406\n",
            "Epoch 39/50\n",
            "304/304 [==============================] - 5s 16ms/step - loss: 0.0961 - accuracy: 0.9756 - val_loss: 0.9914 - val_accuracy: 0.8563\n",
            "Epoch 40/50\n",
            "304/304 [==============================] - 5s 16ms/step - loss: 0.0782 - accuracy: 0.9785 - val_loss: 1.1809 - val_accuracy: 0.8767\n",
            "Epoch 41/50\n",
            "304/304 [==============================] - 5s 16ms/step - loss: 0.1454 - accuracy: 0.9633 - val_loss: 1.0612 - val_accuracy: 0.8563\n",
            "Epoch 42/50\n",
            "304/304 [==============================] - 5s 16ms/step - loss: 0.0790 - accuracy: 0.9782 - val_loss: 0.9833 - val_accuracy: 0.8730\n",
            "Epoch 43/50\n",
            "304/304 [==============================] - 5s 16ms/step - loss: 0.0527 - accuracy: 0.9864 - val_loss: 1.4268 - val_accuracy: 0.8610\n",
            "Epoch 44/50\n",
            "304/304 [==============================] - 5s 16ms/step - loss: 0.0637 - accuracy: 0.9833 - val_loss: 1.0318 - val_accuracy: 0.8684\n",
            "Epoch 45/50\n",
            "304/304 [==============================] - 5s 16ms/step - loss: 0.0582 - accuracy: 0.9830 - val_loss: 1.0951 - val_accuracy: 0.8258\n",
            "Epoch 46/50\n",
            "304/304 [==============================] - 5s 16ms/step - loss: 0.0519 - accuracy: 0.9832 - val_loss: 1.1781 - val_accuracy: 0.8665\n",
            "Epoch 47/50\n",
            "304/304 [==============================] - 5s 16ms/step - loss: 0.1015 - accuracy: 0.9740 - val_loss: 1.2545 - val_accuracy: 0.8517\n",
            "Epoch 48/50\n",
            "304/304 [==============================] - 5s 16ms/step - loss: 0.0696 - accuracy: 0.9807 - val_loss: 1.1988 - val_accuracy: 0.8740\n",
            "Epoch 49/50\n",
            "304/304 [==============================] - 5s 16ms/step - loss: 0.0579 - accuracy: 0.9841 - val_loss: 1.0399 - val_accuracy: 0.8573\n",
            "Epoch 50/50\n",
            "304/304 [==============================] - 5s 16ms/step - loss: 0.1284 - accuracy: 0.9690 - val_loss: 1.3939 - val_accuracy: 0.8573\n"
          ]
        }
      ]
    },
    {
      "cell_type": "code",
      "source": [
        "# Modeli değerlendirme\n",
        "print(\"Training Accuracy:\", model.evaluate(x_train, train_yCl)[1])\n",
        "print(\"Validation Accuracy:\", model.evaluate(x_val, valid_yCl)[1])\n",
        "print(\"Test Accuracy:\", model.evaluate(x_test, test_yCl)[1])\n"
      ],
      "metadata": {
        "id": "EfMyISm-Gu_i",
        "outputId": "b77e7c00-8e6d-4227-a25f-c3018173275d",
        "colab": {
          "base_uri": "https://localhost:8080/"
        }
      },
      "execution_count": 19,
      "outputs": [
        {
          "output_type": "stream",
          "name": "stdout",
          "text": [
            "304/304 [==============================] - 2s 5ms/step - loss: 0.0185 - accuracy: 0.9966\n",
            "Training Accuracy: 0.996599018573761\n",
            "34/34 [==============================] - 0s 5ms/step - loss: 1.3939 - accuracy: 0.8573\n",
            "Validation Accuracy: 0.8572752475738525\n",
            "85/85 [==============================] - 1s 6ms/step - loss: 1.2751 - accuracy: 0.8676\n",
            "Test Accuracy: 0.8675816059112549\n"
          ]
        }
      ]
    },
    {
      "cell_type": "code",
      "source": [
        "# Test seti üzerindeki tahminler\n",
        "y_pred = np.argmax(model.predict(x_test), axis=1)\n",
        "y_true = y_test"
      ],
      "metadata": {
        "id": "5mnLfE5Ib7Sb",
        "outputId": "30fdc6d3-07f7-4881-b159-b74daa139eda",
        "colab": {
          "base_uri": "https://localhost:8080/"
        }
      },
      "execution_count": 20,
      "outputs": [
        {
          "output_type": "stream",
          "name": "stdout",
          "text": [
            "85/85 [==============================] - 0s 4ms/step\n"
          ]
        }
      ]
    },
    {
      "cell_type": "code",
      "source": [
        "# Performans metrikler\n",
        "accuracy = accuracy_score(y_true, y_pred)\n",
        "precision = precision_score(y_true, y_pred, average='weighted')\n",
        "recall = recall_score(y_true, y_pred, average='weighted')\n",
        "f1 = f1_score(y_true, y_pred, average='weighted')\n",
        "conf_matrix = confusion_matrix(y_true, y_pred)\n",
        "class_report = classification_report(y_true, y_pred)\n"
      ],
      "metadata": {
        "id": "TYsN7ExXU0_U"
      },
      "execution_count": 21,
      "outputs": []
    },
    {
      "cell_type": "code",
      "source": [
        "# Sonuçları görüntüleme\n",
        "print(\"Accuracy:\", accuracy)\n",
        "print(\"Precision:\", precision)\n",
        "print(\"Recall:\", recall)\n",
        "print(\"F1 Score:\", f1)\n",
        "print(\"\\nConfusion Matrix:\\n\", conf_matrix)\n",
        "print(\"\\nClassification Report:\\n\", class_report)"
      ],
      "metadata": {
        "colab": {
          "base_uri": "https://localhost:8080/"
        },
        "id": "5NhGGxCFU3LW",
        "outputId": "fb7ed45c-00ca-4ef8-a5bf-07f184798bd8"
      },
      "execution_count": 22,
      "outputs": [
        {
          "output_type": "stream",
          "name": "stdout",
          "text": [
            "Accuracy: 0.8675816023738873\n",
            "Precision: 0.8717460354555036\n",
            "Recall: 0.8675816023738873\n",
            "F1 Score: 0.8676726863662322\n",
            "\n",
            "Confusion Matrix:\n",
            " [[438  82  25   0]\n",
            " [ 11 725  49   6]\n",
            " [ 48  80 751  23]\n",
            " [  1  22  10 425]]\n",
            "\n",
            "Classification Report:\n",
            "               precision    recall  f1-score   support\n",
            "\n",
            "           0       0.88      0.80      0.84       545\n",
            "           1       0.80      0.92      0.85       791\n",
            "           2       0.90      0.83      0.86       902\n",
            "           3       0.94      0.93      0.93       458\n",
            "\n",
            "    accuracy                           0.87      2696\n",
            "   macro avg       0.88      0.87      0.87      2696\n",
            "weighted avg       0.87      0.87      0.87      2696\n",
            "\n"
          ]
        }
      ]
    }
  ]
}