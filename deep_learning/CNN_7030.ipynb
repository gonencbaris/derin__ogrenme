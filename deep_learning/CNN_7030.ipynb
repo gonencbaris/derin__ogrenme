{
  "nbformat": 4,
  "nbformat_minor": 0,
  "metadata": {
    "colab": {
      "provenance": [],
      "machine_shape": "hm"
    },
    "kernelspec": {
      "name": "python3",
      "display_name": "Python 3"
    },
    "language_info": {
      "name": "python"
    },
    "accelerator": "TPU"
  },
  "cells": [
    {
      "cell_type": "code",
      "execution_count": 1,
      "metadata": {
        "colab": {
          "base_uri": "https://localhost:8080/"
        },
        "id": "_1WWVE6ivr_r",
        "outputId": "96e5079f-7744-4355-ed22-59fe9f27a0ed"
      },
      "outputs": [
        {
          "output_type": "stream",
          "name": "stdout",
          "text": [
            "Mounted at /gdrive\n"
          ]
        }
      ],
      "source": [
        "from google.colab import drive\n",
        "drive.mount('/gdrive')"
      ]
    },
    {
      "cell_type": "code",
      "source": [
        "# Gerekli kütüphaneleri içe aktarma\n",
        "import numpy as np\n",
        "import cv2\n",
        "import os\n",
        "import tensorflow as tf\n",
        "from sklearn.model_selection import train_test_split\n",
        "from keras.layers import Input, Dense, Activation, BatchNormalization, Flatten, Conv2D, MaxPooling2D, Dropout\n",
        "from keras.models import Sequential\n",
        "from sklearn.metrics import accuracy_score, precision_score, recall_score, f1_score, confusion_matrix, classification_report\n",
        "from keras.callbacks import ModelCheckpoint, EarlyStopping\n",
        "from tensorflow.keras.utils import to_categorical\n",
        "\n",
        "import kerastuner as kt\n"
      ],
      "metadata": {
        "id": "XuzUccKXz7Yy",
        "colab": {
          "base_uri": "https://localhost:8080/"
        },
        "outputId": "ffe65e20-ebf9-4234-ed37-af8e8bb58458"
      },
      "execution_count": 4,
      "outputs": [
        {
          "output_type": "stream",
          "name": "stderr",
          "text": [
            "<ipython-input-4-eac48f44ad09>:13: DeprecationWarning: `import kerastuner` is deprecated, please use `import keras_tuner`.\n",
            "  import kerastuner as kt\n"
          ]
        }
      ]
    },
    {
      "cell_type": "code",
      "source": [
        "import os\n",
        "print(os.listdir(\"/gdrive/My Drive/Banana_Ripeness_Classification\"))\n"
      ],
      "metadata": {
        "colab": {
          "base_uri": "https://localhost:8080/"
        },
        "id": "9pOWuyNj0ABB",
        "outputId": "2da15366-095e-4be9-e625-87d69418ae1e"
      },
      "execution_count": 5,
      "outputs": [
        {
          "output_type": "stream",
          "name": "stdout",
          "text": [
            "['unripe', 'ripe', 'rotten', 'overripe']\n"
          ]
        }
      ]
    },
    {
      "cell_type": "code",
      "source": [
        "DATADIR = '/gdrive/My Drive/Banana_Ripeness_Classification/'\n",
        "CATEGORIES = [\"overripe\", \"ripe\", \"rotten\", \"unripe\"]\n",
        "IMG_SIZE = 100\n"
      ],
      "metadata": {
        "id": "fS21WrZzLqY6"
      },
      "execution_count": 6,
      "outputs": []
    },
    {
      "cell_type": "code",
      "source": [
        "def create_all_data():\n",
        "    all_data = []\n",
        "    for category in CATEGORIES:\n",
        "        path = os.path.join(DATADIR, category)\n",
        "        class_num = CATEGORIES.index(category)\n",
        "        for img in os.listdir(path):\n",
        "            try:\n",
        "                img_array = cv2.imread(os.path.join(path, img))\n",
        "                new_array = cv2.resize(img_array, (IMG_SIZE, IMG_SIZE))\n",
        "                all_data.append([new_array, class_num])\n",
        "            except Exception as e:\n",
        "                pass\n",
        "    return all_data"
      ],
      "metadata": {
        "id": "q992c9li-Op3"
      },
      "execution_count": 7,
      "outputs": []
    },
    {
      "cell_type": "code",
      "source": [
        "all_data = create_all_data()\n",
        "print(\"Total number of images:\", len(all_data))"
      ],
      "metadata": {
        "colab": {
          "base_uri": "https://localhost:8080/"
        },
        "id": "U5VPQNqA_rXq",
        "outputId": "b337a4ab-2dae-475c-a97a-05f1e6ee09f1"
      },
      "execution_count": 8,
      "outputs": [
        {
          "output_type": "stream",
          "name": "stdout",
          "text": [
            "Total number of images: 13478\n"
          ]
        }
      ]
    },
    {
      "cell_type": "code",
      "source": [
        "\n",
        "X = []\n",
        "y = []\n",
        "for features, label in all_data:\n",
        "    X.append(features)\n",
        "    y.append(label)\n",
        "\n",
        "X = np.array(X).reshape(-1, IMG_SIZE, IMG_SIZE, 3)\n",
        "y = np.array(y)\n"
      ],
      "metadata": {
        "id": "0_uSbvcjUe0X"
      },
      "execution_count": 9,
      "outputs": []
    },
    {
      "cell_type": "code",
      "source": [
        "from sklearn.model_selection import train_test_split\n",
        "x_train, x_test, y_train, y_test = train_test_split(X, y, test_size=0.30, random_state=42)\n",
        "x_train, x_val, y_train, y_val = train_test_split(x_train, y_train, test_size=0.10, random_state=42)\n"
      ],
      "metadata": {
        "id": "4Oc_hkOMUj8G"
      },
      "execution_count": 10,
      "outputs": []
    },
    {
      "cell_type": "code",
      "source": [
        "# Etiketleri kategorik hale dönüştürme\n",
        "train_yCl = to_categorical(y_train, num_classes=4)\n",
        "test_yCl = to_categorical(y_test, num_classes=4)\n",
        "valid_yCl = to_categorical(y_val, num_classes=4)"
      ],
      "metadata": {
        "id": "hz6IxUE_UofU"
      },
      "execution_count": 11,
      "outputs": []
    },
    {
      "cell_type": "code",
      "source": [
        "print(y_test)"
      ],
      "metadata": {
        "colab": {
          "base_uri": "https://localhost:8080/"
        },
        "id": "uVY12K3rp8na",
        "outputId": "841957fa-f96a-41fe-a4b3-b09398cc33cc"
      },
      "execution_count": 12,
      "outputs": [
        {
          "output_type": "stream",
          "name": "stdout",
          "text": [
            "[1 1 3 ... 2 1 1]\n"
          ]
        }
      ]
    },
    {
      "cell_type": "code",
      "source": [
        "def build_model(hp):\n",
        "    model = Sequential()\n",
        "\n",
        "    # İlk Conv2D katmanındaki birim sayısını ayarlama\n",
        "    model.add(Conv2D(hp.Int('conv_1_units', min_value=32, max_value=128, step=32),\n",
        "                     (3, 3), padding='same',\n",
        "                     input_shape=(IMG_SIZE, IMG_SIZE, 3)))\n",
        "    model.add(Activation('relu'))\n",
        "    model.add(MaxPooling2D(pool_size=(2, 2)))\n",
        "\n",
        "   # İkinci Conv2D katmanındaki birim sayısını ayarlama\n",
        "    model.add(Conv2D(hp.Int('conv_2_units', min_value=32, max_value=128, step=32),\n",
        "                     (3, 3), padding='same'))\n",
        "    model.add(Activation('relu'))\n",
        "    model.add(MaxPooling2D(pool_size=(2, 2)))\n",
        "\n",
        "    model.add(Flatten())\n",
        "\n",
        "    # Dense katmanındaki nöron sayısını ayarlama\n",
        "    model.add(Dense(hp.Int('dense_units', min_value=64, max_value=256, step=64), activation='relu'))\n",
        "    model.add(Dropout(0.5))\n",
        "    model.add(Dense(4, activation='softmax'))\n",
        "\n",
        "    model.compile(optimizer='adam',\n",
        "                  loss='categorical_crossentropy',\n",
        "                  metrics=['accuracy'])\n",
        "\n",
        "    return model"
      ],
      "metadata": {
        "id": "izR1RIleUqgD"
      },
      "execution_count": 13,
      "outputs": []
    },
    {
      "cell_type": "code",
      "source": [
        "# Hiperparametre ayarlayıcısını başlatma\n",
        "tuner = kt.RandomSearch(\n",
        "    build_model,\n",
        "    objective='val_accuracy',\n",
        "    max_trials=5,\n",
        "    executions_per_trial=1,\n",
        "    directory='my_dir',\n",
        "    project_name='banana_classification'\n",
        ")\n",
        "\n"
      ],
      "metadata": {
        "id": "aygmwpfaUt5_"
      },
      "execution_count": 14,
      "outputs": []
    },
    {
      "cell_type": "code",
      "source": [
        "print(y_test)"
      ],
      "metadata": {
        "colab": {
          "base_uri": "https://localhost:8080/"
        },
        "id": "pW6OdG_RpHH3",
        "outputId": "5df86274-66c1-4c66-e69b-9f149b99ee4f"
      },
      "execution_count": 15,
      "outputs": [
        {
          "output_type": "stream",
          "name": "stdout",
          "text": [
            "[1 1 3 ... 2 1 1]\n"
          ]
        }
      ]
    },
    {
      "cell_type": "code",
      "source": [
        "# Callbacks tanımlamak\n",
        "callbacks = [\n",
        "    EarlyStopping(monitor='val_loss', patience=10)\n",
        "]\n",
        "\n",
        "# Hiperparametre ayarlamasını başlatma\n",
        "tuner.search(x_train, train_yCl, batch_size=32, epochs=10, validation_data=(x_val, valid_yCl), callbacks=callbacks)\n"
      ],
      "metadata": {
        "id": "DcutY0cAUw2T",
        "outputId": "6335e642-8dbe-4e9d-e641-39d3502f137e",
        "colab": {
          "base_uri": "https://localhost:8080/"
        }
      },
      "execution_count": 16,
      "outputs": [
        {
          "output_type": "stream",
          "name": "stdout",
          "text": [
            "Trial 5 Complete [00h 02m 42s]\n",
            "val_accuracy: 0.8241525292396545\n",
            "\n",
            "Best val_accuracy So Far: 0.8241525292396545\n",
            "Total elapsed time: 00h 33m 48s\n"
          ]
        }
      ]
    },
    {
      "cell_type": "code",
      "source": [
        "# En iyi hiperparametreleri elde etme\n",
        "best_hps = tuner.get_best_hyperparameters(num_trials=1)[0]\n",
        "\n",
        "# Modeli en iyi hiperparametrelerle oluşturma ve eğitme\n",
        "model = tuner.hypermodel.build(best_hps)\n",
        "history = model.fit(x_train, train_yCl, epochs=50, validation_data=(x_val, valid_yCl))\n"
      ],
      "metadata": {
        "id": "GnhjCuuCHvev",
        "colab": {
          "base_uri": "https://localhost:8080/"
        },
        "outputId": "6fff85b0-26fd-449f-9f77-273bc8e87051"
      },
      "execution_count": 17,
      "outputs": [
        {
          "output_type": "stream",
          "name": "stdout",
          "text": [
            "Epoch 1/50\n",
            "266/266 [==============================] - 17s 60ms/step - loss: 8.1987 - accuracy: 0.3322 - val_loss: 1.3614 - val_accuracy: 0.3263\n",
            "Epoch 2/50\n",
            "266/266 [==============================] - 16s 59ms/step - loss: 1.3323 - accuracy: 0.3689 - val_loss: 1.2964 - val_accuracy: 0.3888\n",
            "Epoch 3/50\n",
            "266/266 [==============================] - 16s 60ms/step - loss: 1.2829 - accuracy: 0.4118 - val_loss: 1.2474 - val_accuracy: 0.4354\n",
            "Epoch 4/50\n",
            "266/266 [==============================] - 16s 60ms/step - loss: 1.1715 - accuracy: 0.4810 - val_loss: 1.1931 - val_accuracy: 0.4502\n",
            "Epoch 5/50\n",
            "266/266 [==============================] - 16s 60ms/step - loss: 1.0979 - accuracy: 0.5226 - val_loss: 1.1047 - val_accuracy: 0.5148\n",
            "Epoch 6/50\n",
            "266/266 [==============================] - 16s 59ms/step - loss: 0.9798 - accuracy: 0.5807 - val_loss: 0.9385 - val_accuracy: 0.5985\n",
            "Epoch 7/50\n",
            "266/266 [==============================] - 16s 61ms/step - loss: 0.8190 - accuracy: 0.6676 - val_loss: 0.6746 - val_accuracy: 0.7341\n",
            "Epoch 8/50\n",
            "266/266 [==============================] - 16s 59ms/step - loss: 0.7071 - accuracy: 0.7167 - val_loss: 0.7204 - val_accuracy: 0.7352\n",
            "Epoch 9/50\n",
            "266/266 [==============================] - 16s 60ms/step - loss: 0.5844 - accuracy: 0.7779 - val_loss: 0.7007 - val_accuracy: 0.7511\n",
            "Epoch 10/50\n",
            "266/266 [==============================] - 16s 60ms/step - loss: 0.5083 - accuracy: 0.7991 - val_loss: 0.4659 - val_accuracy: 0.8347\n",
            "Epoch 11/50\n",
            "266/266 [==============================] - 16s 61ms/step - loss: 0.4875 - accuracy: 0.8163 - val_loss: 0.4804 - val_accuracy: 0.8284\n",
            "Epoch 12/50\n",
            "266/266 [==============================] - 16s 60ms/step - loss: 0.4124 - accuracy: 0.8430 - val_loss: 0.4349 - val_accuracy: 0.8485\n",
            "Epoch 13/50\n",
            "266/266 [==============================] - 16s 60ms/step - loss: 0.3644 - accuracy: 0.8609 - val_loss: 0.4529 - val_accuracy: 0.8517\n",
            "Epoch 14/50\n",
            "266/266 [==============================] - 16s 62ms/step - loss: 0.3264 - accuracy: 0.8761 - val_loss: 0.4473 - val_accuracy: 0.8570\n",
            "Epoch 15/50\n",
            "266/266 [==============================] - 16s 61ms/step - loss: 0.3059 - accuracy: 0.8843 - val_loss: 0.4296 - val_accuracy: 0.8453\n",
            "Epoch 16/50\n",
            "266/266 [==============================] - 16s 61ms/step - loss: 0.2825 - accuracy: 0.8894 - val_loss: 0.3913 - val_accuracy: 0.8676\n",
            "Epoch 17/50\n",
            "266/266 [==============================] - 16s 61ms/step - loss: 0.3092 - accuracy: 0.8847 - val_loss: 0.4433 - val_accuracy: 0.8655\n",
            "Epoch 18/50\n",
            "266/266 [==============================] - 17s 62ms/step - loss: 0.2924 - accuracy: 0.8928 - val_loss: 0.3399 - val_accuracy: 0.8845\n",
            "Epoch 19/50\n",
            "266/266 [==============================] - 17s 62ms/step - loss: 0.2538 - accuracy: 0.9064 - val_loss: 0.4091 - val_accuracy: 0.8729\n",
            "Epoch 20/50\n",
            "266/266 [==============================] - 17s 62ms/step - loss: 0.2371 - accuracy: 0.9117 - val_loss: 0.3664 - val_accuracy: 0.8782\n",
            "Epoch 21/50\n",
            "266/266 [==============================] - 16s 61ms/step - loss: 0.2117 - accuracy: 0.9199 - val_loss: 0.3437 - val_accuracy: 0.8962\n",
            "Epoch 22/50\n",
            "266/266 [==============================] - 17s 63ms/step - loss: 0.2316 - accuracy: 0.9125 - val_loss: 0.4265 - val_accuracy: 0.8867\n",
            "Epoch 23/50\n",
            "266/266 [==============================] - 16s 61ms/step - loss: 0.1924 - accuracy: 0.9283 - val_loss: 0.6544 - val_accuracy: 0.8485\n",
            "Epoch 24/50\n",
            "266/266 [==============================] - 16s 61ms/step - loss: 0.2054 - accuracy: 0.9277 - val_loss: 0.4458 - val_accuracy: 0.8750\n",
            "Epoch 25/50\n",
            "266/266 [==============================] - 16s 61ms/step - loss: 0.3060 - accuracy: 0.8907 - val_loss: 0.3919 - val_accuracy: 0.8814\n",
            "Epoch 26/50\n",
            "266/266 [==============================] - 16s 62ms/step - loss: 0.1783 - accuracy: 0.9322 - val_loss: 0.4590 - val_accuracy: 0.8867\n",
            "Epoch 27/50\n",
            "266/266 [==============================] - 16s 61ms/step - loss: 0.2137 - accuracy: 0.9224 - val_loss: 0.4779 - val_accuracy: 0.8919\n",
            "Epoch 28/50\n",
            "266/266 [==============================] - 16s 61ms/step - loss: 0.1509 - accuracy: 0.9445 - val_loss: 0.6494 - val_accuracy: 0.8506\n",
            "Epoch 29/50\n",
            "266/266 [==============================] - 16s 61ms/step - loss: 0.1743 - accuracy: 0.9314 - val_loss: 0.5674 - val_accuracy: 0.8475\n",
            "Epoch 30/50\n",
            "266/266 [==============================] - 16s 60ms/step - loss: 0.1519 - accuracy: 0.9446 - val_loss: 0.4720 - val_accuracy: 0.8665\n",
            "Epoch 31/50\n",
            "266/266 [==============================] - 16s 60ms/step - loss: 0.2846 - accuracy: 0.9059 - val_loss: 0.5207 - val_accuracy: 0.8771\n",
            "Epoch 32/50\n",
            "266/266 [==============================] - 16s 59ms/step - loss: 0.2323 - accuracy: 0.9184 - val_loss: 0.5013 - val_accuracy: 0.8644\n",
            "Epoch 33/50\n",
            "266/266 [==============================] - 16s 59ms/step - loss: 0.1563 - accuracy: 0.9418 - val_loss: 0.4966 - val_accuracy: 0.8845\n",
            "Epoch 34/50\n",
            "266/266 [==============================] - 16s 59ms/step - loss: 0.1186 - accuracy: 0.9555 - val_loss: 0.5271 - val_accuracy: 0.8739\n",
            "Epoch 35/50\n",
            "266/266 [==============================] - 16s 60ms/step - loss: 0.1283 - accuracy: 0.9529 - val_loss: 0.4276 - val_accuracy: 0.8972\n",
            "Epoch 36/50\n",
            "266/266 [==============================] - 16s 58ms/step - loss: 0.1733 - accuracy: 0.9385 - val_loss: 0.4856 - val_accuracy: 0.8888\n",
            "Epoch 37/50\n",
            "266/266 [==============================] - 15s 58ms/step - loss: 0.1550 - accuracy: 0.9452 - val_loss: 0.4363 - val_accuracy: 0.9068\n",
            "Epoch 38/50\n",
            "266/266 [==============================] - 16s 59ms/step - loss: 0.1647 - accuracy: 0.9388 - val_loss: 0.4897 - val_accuracy: 0.8941\n",
            "Epoch 39/50\n",
            "266/266 [==============================] - 16s 60ms/step - loss: 0.1241 - accuracy: 0.9556 - val_loss: 0.7885 - val_accuracy: 0.8718\n",
            "Epoch 40/50\n",
            "266/266 [==============================] - 16s 59ms/step - loss: 0.1356 - accuracy: 0.9557 - val_loss: 0.5082 - val_accuracy: 0.8930\n",
            "Epoch 41/50\n",
            "266/266 [==============================] - 16s 60ms/step - loss: 0.1524 - accuracy: 0.9485 - val_loss: 0.5307 - val_accuracy: 0.8919\n",
            "Epoch 42/50\n",
            "266/266 [==============================] - 16s 60ms/step - loss: 0.1196 - accuracy: 0.9584 - val_loss: 0.7034 - val_accuracy: 0.8665\n",
            "Epoch 43/50\n",
            "266/266 [==============================] - 16s 59ms/step - loss: 0.1331 - accuracy: 0.9561 - val_loss: 0.4636 - val_accuracy: 0.9015\n",
            "Epoch 44/50\n",
            "266/266 [==============================] - 16s 59ms/step - loss: 0.0866 - accuracy: 0.9670 - val_loss: 0.7110 - val_accuracy: 0.8824\n",
            "Epoch 45/50\n",
            "266/266 [==============================] - 15s 58ms/step - loss: 0.0907 - accuracy: 0.9668 - val_loss: 0.5977 - val_accuracy: 0.8983\n",
            "Epoch 46/50\n",
            "266/266 [==============================] - 15s 58ms/step - loss: 0.1073 - accuracy: 0.9633 - val_loss: 0.5466 - val_accuracy: 0.8930\n",
            "Epoch 47/50\n",
            "266/266 [==============================] - 16s 58ms/step - loss: 0.1105 - accuracy: 0.9616 - val_loss: 0.7093 - val_accuracy: 0.8951\n",
            "Epoch 48/50\n",
            "266/266 [==============================] - 16s 59ms/step - loss: 0.1583 - accuracy: 0.9536 - val_loss: 0.5605 - val_accuracy: 0.9004\n",
            "Epoch 49/50\n",
            "266/266 [==============================] - 16s 59ms/step - loss: 0.0833 - accuracy: 0.9708 - val_loss: 0.7183 - val_accuracy: 0.8898\n",
            "Epoch 50/50\n",
            "266/266 [==============================] - 16s 59ms/step - loss: 0.1005 - accuracy: 0.9667 - val_loss: 0.5751 - val_accuracy: 0.8856\n"
          ]
        }
      ]
    },
    {
      "cell_type": "code",
      "source": [
        "# Modeli değerlendirmek\n",
        "print(\"Training Accuracy:\", model.evaluate(x_train, train_yCl)[1])\n",
        "print(\"Validation Accuracy:\", model.evaluate(x_val, valid_yCl)[1])\n",
        "print(\"Test Accuracy:\", model.evaluate(x_test, test_yCl)[1])\n"
      ],
      "metadata": {
        "id": "EfMyISm-Gu_i",
        "colab": {
          "base_uri": "https://localhost:8080/"
        },
        "outputId": "5f09d08d-c740-4a68-cdb2-5959cdd6ca6a"
      },
      "execution_count": 18,
      "outputs": [
        {
          "output_type": "stream",
          "name": "stdout",
          "text": [
            "266/266 [==============================] - 4s 14ms/step - loss: 0.0241 - accuracy: 0.9936\n",
            "Training Accuracy: 0.9936395883560181\n",
            "30/30 [==============================] - 0s 13ms/step - loss: 0.5751 - accuracy: 0.8856\n",
            "Validation Accuracy: 0.8855932354927063\n",
            "127/127 [==============================] - 2s 13ms/step - loss: 0.7797 - accuracy: 0.8746\n",
            "Test Accuracy: 0.8746290802955627\n"
          ]
        }
      ]
    },
    {
      "cell_type": "code",
      "source": [
        "# Test seti üzerindeki tahminler\n",
        "y_pred = np.argmax(model.predict(x_test), axis=1)\n",
        "y_true = y_test"
      ],
      "metadata": {
        "id": "5mnLfE5Ib7Sb",
        "colab": {
          "base_uri": "https://localhost:8080/"
        },
        "outputId": "cb91f277-45ae-4e70-9852-65a7d00a7cfe"
      },
      "execution_count": 19,
      "outputs": [
        {
          "output_type": "stream",
          "name": "stdout",
          "text": [
            "127/127 [==============================] - 2s 14ms/step\n"
          ]
        }
      ]
    },
    {
      "cell_type": "code",
      "source": [
        "# Performans metrikleri\n",
        "accuracy = accuracy_score(y_true, y_pred)\n",
        "precision = precision_score(y_true, y_pred, average='weighted')\n",
        "recall = recall_score(y_true, y_pred, average='weighted')\n",
        "f1 = f1_score(y_true, y_pred, average='weighted')\n",
        "conf_matrix = confusion_matrix(y_true, y_pred)\n",
        "class_report = classification_report(y_true, y_pred)\n"
      ],
      "metadata": {
        "id": "TYsN7ExXU0_U"
      },
      "execution_count": 20,
      "outputs": []
    },
    {
      "cell_type": "code",
      "source": [
        "# Sonuçları görüntüleme\n",
        "print(\"Accuracy:\", accuracy)\n",
        "print(\"Precision:\", precision)\n",
        "print(\"Recall:\", recall)\n",
        "print(\"F1 Score:\", f1)\n",
        "print(\"\\nConfusion Matrix:\\n\", conf_matrix)\n",
        "print(\"\\nClassification Report:\\n\", class_report)"
      ],
      "metadata": {
        "id": "5NhGGxCFU3LW",
        "colab": {
          "base_uri": "https://localhost:8080/"
        },
        "outputId": "ec970522-35cf-42c5-bbac-bb109f4e42ca"
      },
      "execution_count": 21,
      "outputs": [
        {
          "output_type": "stream",
          "name": "stdout",
          "text": [
            "Accuracy: 0.8746290801186943\n",
            "Precision: 0.8777836271460271\n",
            "Recall: 0.8746290801186943\n",
            "F1 Score: 0.8747896604593862\n",
            "\n",
            "Confusion Matrix:\n",
            " [[ 715   46   61    0]\n",
            " [  81  977  128    7]\n",
            " [  54   44 1239   21]\n",
            " [   2    9   54  606]]\n",
            "\n",
            "Classification Report:\n",
            "               precision    recall  f1-score   support\n",
            "\n",
            "           0       0.84      0.87      0.85       822\n",
            "           1       0.91      0.82      0.86      1193\n",
            "           2       0.84      0.91      0.87      1358\n",
            "           3       0.96      0.90      0.93       671\n",
            "\n",
            "    accuracy                           0.87      4044\n",
            "   macro avg       0.88      0.88      0.88      4044\n",
            "weighted avg       0.88      0.87      0.87      4044\n",
            "\n"
          ]
        }
      ]
    }
  ]
}